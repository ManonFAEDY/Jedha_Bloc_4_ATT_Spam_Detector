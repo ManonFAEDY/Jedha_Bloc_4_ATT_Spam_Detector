{
 "cells": [
  {
   "cell_type": "markdown",
   "metadata": {
    "id": "dl7xp6e34c1n"
   },
   "source": [
    "# AT&T - DEEP LEARNING PROJET"
   ]
  },
  {
   "cell_type": "markdown",
   "metadata": {
    "id": "2MV6iOWaciAa"
   },
   "source": [
    "# 1. Import librairies"
   ]
  },
  {
   "cell_type": "code",
   "execution_count": 4,
   "metadata": {
    "colab": {
     "base_uri": "https://localhost:8080/"
    },
    "executionInfo": {
     "elapsed": 10831,
     "status": "ok",
     "timestamp": 1751321666096,
     "user": {
      "displayName": "Albert ROMANO",
      "userId": "04721031700914221121"
     },
     "user_tz": -120
    },
    "id": "1s88l77e4HNe",
    "outputId": "60b1b752-35b6-4406-ddd6-1b20b14df485"
   },
   "outputs": [
    {
     "name": "stdout",
     "output_type": "stream",
     "text": [
      "Device actuel : 0\n",
      "CUDA disponible : True\n",
      "Nombre de GPU : 1\n",
      "Nom GPU : NVIDIA GeForce GTX 1650\n"
     ]
    }
   ],
   "source": [
    "# prevent warning\n",
    "import warnings\n",
    "warnings.filterwarnings(\"ignore\")\n",
    "\n",
    "# clear outputs\n",
    "from IPython.display import clear_output\n",
    "\n",
    "# base lib\n",
    "import pandas as pd\n",
    "import numpy as np\n",
    "import chardet\n",
    "from sklearn.model_selection import train_test_split\n",
    "\n",
    "# viz lib\n",
    "import matplotlib.pyplot as plt\n",
    "import seaborn as sns\n",
    "import plotly.express as px\n",
    "\n",
    "# preprocess lib\n",
    "import tiktoken\n",
    "\n",
    "# Pytorch lib\n",
    "import torch\n",
    "import torch.nn as nn\n",
    "import torch.nn.functional as F\n",
    "import torch.optim as optim\n",
    "from torch.utils.data import DataLoader, Dataset, random_split\n",
    "from torchinfo import summary\n",
    "\n",
    "# import lib transformer\n",
    "from transformers import AutoTokenizer\n",
    "from transformers import DataCollatorWithPadding\n",
    "from transformers import TrainingArguments\n",
    "from transformers import AutoModelForSequenceClassification\n",
    "from transformers import Trainer\n",
    "from datasets import Dataset as dset\n",
    "\n",
    "# statistics\n",
    "from sklearn.metrics import classification_report\n",
    "from sklearn.metrics import confusion_matrix\n",
    "\n",
    "# controle device ligne\n",
    "device = torch.cuda.current_device() if torch.cuda.is_available() else \"cpu\"\n",
    "device_name = torch.cuda.get_device_name(0)\n",
    "\n",
    "print(\"Device actuel :\", device)\n",
    "print(\"CUDA disponible :\", torch.cuda.is_available())\n",
    "print(\"Nombre de GPU :\", torch.cuda.device_count())\n",
    "print(\"Nom GPU :\", torch.cuda.get_device_name(0))"
   ]
  },
  {
   "cell_type": "markdown",
   "metadata": {
    "id": "jIZOOcRkciAc"
   },
   "source": [
    "# 2. Import the dataset\n",
    "\"https://full-stack-bigdata-datasets.s3.eu-west-3.amazonaws.com/Deep+Learning/project/spam.csv\""
   ]
  },
  {
   "cell_type": "code",
   "execution_count": 5,
   "metadata": {},
   "outputs": [],
   "source": [
    "csv_path = \"spam.csv\""
   ]
  },
  {
   "cell_type": "code",
   "execution_count": 6,
   "metadata": {
    "colab": {
     "base_uri": "https://localhost:8080/"
    },
    "executionInfo": {
     "elapsed": 94,
     "status": "ok",
     "timestamp": 1751321666189,
     "user": {
      "displayName": "Albert ROMANO",
      "userId": "04721031700914221121"
     },
     "user_tz": -120
    },
    "id": "WMPjpmmWciAc",
    "outputId": "d687ee44-8194-4166-8d46-52fc4c7957fc"
   },
   "outputs": [
    {
     "name": "stdout",
     "output_type": "stream",
     "text": [
      "Detected encoding :  Windows-1252\n",
      "❌ Failed with encoding : utf-8\n",
      "❌ Failed with encoding : utf-16\n",
      "❌ Failed with encoding : utf-8-sig\n",
      "❌ Failed with encoding : utf_32\n",
      "❌ Failed with encoding : utf_32_be\n",
      "❌ Failed with encoding : utf_32_le\n",
      "❌ Failed with encoding : utf_7\n",
      "✅ Loaded successfully with encoding : cp1252\n",
      "✅ Loaded successfully with encoding : ISO-8859-1\n",
      "✅ Loaded successfully with encoding : latin\n",
      "✅ Loaded successfully with encoding : latin9\n"
     ]
    }
   ],
   "source": [
    "# Find an encoding that works\n",
    "with open(csv_path, \"rb\") as original_file:\n",
    "    data_to_decode = original_file.read()\n",
    "encoding_result = chardet.detect(data_to_decode)\n",
    "detected_encoding = encoding_result[\"encoding\"]\n",
    "print(\"Detected encoding : \",detected_encoding)\n",
    "\n",
    "encodings_to_try = ['utf-8','utf-16', 'utf-8-sig', 'utf_32', 'utf_32_be', 'utf_32_le', 'utf_7', 'cp1252', 'ISO-8859-1','latin','latin9']\n",
    "\n",
    "for enc in encodings_to_try:\n",
    "    try:\n",
    "        df = pd.read_csv(csv_path, encoding=enc)\n",
    "        print(f\"✅ Loaded successfully with encoding : {enc}\")\n",
    "    except UnicodeDecodeError:\n",
    "        print(f\"❌ Failed with encoding : {enc}\")"
   ]
  },
  {
   "cell_type": "code",
   "execution_count": 7,
   "metadata": {
    "colab": {
     "base_uri": "https://localhost:8080/",
     "height": 424
    },
    "executionInfo": {
     "elapsed": 163,
     "status": "ok",
     "timestamp": 1751321666353,
     "user": {
      "displayName": "Albert ROMANO",
      "userId": "04721031700914221121"
     },
     "user_tz": -120
    },
    "id": "pbCqmFfQciAc",
    "outputId": "4f8c2f3f-753e-4c65-f151-c25fc983d080"
   },
   "outputs": [
    {
     "data": {
      "text/html": [
       "<div>\n",
       "<style scoped>\n",
       "    .dataframe tbody tr th:only-of-type {\n",
       "        vertical-align: middle;\n",
       "    }\n",
       "\n",
       "    .dataframe tbody tr th {\n",
       "        vertical-align: top;\n",
       "    }\n",
       "\n",
       "    .dataframe thead th {\n",
       "        text-align: right;\n",
       "    }\n",
       "</style>\n",
       "<table border=\"1\" class=\"dataframe\">\n",
       "  <thead>\n",
       "    <tr style=\"text-align: right;\">\n",
       "      <th></th>\n",
       "      <th>v1</th>\n",
       "      <th>v2</th>\n",
       "      <th>Unnamed: 2</th>\n",
       "      <th>Unnamed: 3</th>\n",
       "      <th>Unnamed: 4</th>\n",
       "    </tr>\n",
       "  </thead>\n",
       "  <tbody>\n",
       "    <tr>\n",
       "      <th>0</th>\n",
       "      <td>ham</td>\n",
       "      <td>Go until jurong point, crazy.. Available only ...</td>\n",
       "      <td>NaN</td>\n",
       "      <td>NaN</td>\n",
       "      <td>NaN</td>\n",
       "    </tr>\n",
       "    <tr>\n",
       "      <th>1</th>\n",
       "      <td>ham</td>\n",
       "      <td>Ok lar... Joking wif u oni...</td>\n",
       "      <td>NaN</td>\n",
       "      <td>NaN</td>\n",
       "      <td>NaN</td>\n",
       "    </tr>\n",
       "    <tr>\n",
       "      <th>2</th>\n",
       "      <td>spam</td>\n",
       "      <td>Free entry in 2 a wkly comp to win FA Cup fina...</td>\n",
       "      <td>NaN</td>\n",
       "      <td>NaN</td>\n",
       "      <td>NaN</td>\n",
       "    </tr>\n",
       "    <tr>\n",
       "      <th>3</th>\n",
       "      <td>ham</td>\n",
       "      <td>U dun say so early hor... U c already then say...</td>\n",
       "      <td>NaN</td>\n",
       "      <td>NaN</td>\n",
       "      <td>NaN</td>\n",
       "    </tr>\n",
       "    <tr>\n",
       "      <th>4</th>\n",
       "      <td>ham</td>\n",
       "      <td>Nah I don't think he goes to usf, he lives aro...</td>\n",
       "      <td>NaN</td>\n",
       "      <td>NaN</td>\n",
       "      <td>NaN</td>\n",
       "    </tr>\n",
       "    <tr>\n",
       "      <th>...</th>\n",
       "      <td>...</td>\n",
       "      <td>...</td>\n",
       "      <td>...</td>\n",
       "      <td>...</td>\n",
       "      <td>...</td>\n",
       "    </tr>\n",
       "    <tr>\n",
       "      <th>5567</th>\n",
       "      <td>spam</td>\n",
       "      <td>This is the 2nd time we have tried 2 contact u...</td>\n",
       "      <td>NaN</td>\n",
       "      <td>NaN</td>\n",
       "      <td>NaN</td>\n",
       "    </tr>\n",
       "    <tr>\n",
       "      <th>5568</th>\n",
       "      <td>ham</td>\n",
       "      <td>Will Ì_ b going to esplanade fr home?</td>\n",
       "      <td>NaN</td>\n",
       "      <td>NaN</td>\n",
       "      <td>NaN</td>\n",
       "    </tr>\n",
       "    <tr>\n",
       "      <th>5569</th>\n",
       "      <td>ham</td>\n",
       "      <td>Pity, * was in mood for that. So...any other s...</td>\n",
       "      <td>NaN</td>\n",
       "      <td>NaN</td>\n",
       "      <td>NaN</td>\n",
       "    </tr>\n",
       "    <tr>\n",
       "      <th>5570</th>\n",
       "      <td>ham</td>\n",
       "      <td>The guy did some bitching but I acted like i'd...</td>\n",
       "      <td>NaN</td>\n",
       "      <td>NaN</td>\n",
       "      <td>NaN</td>\n",
       "    </tr>\n",
       "    <tr>\n",
       "      <th>5571</th>\n",
       "      <td>ham</td>\n",
       "      <td>Rofl. Its true to its name</td>\n",
       "      <td>NaN</td>\n",
       "      <td>NaN</td>\n",
       "      <td>NaN</td>\n",
       "    </tr>\n",
       "  </tbody>\n",
       "</table>\n",
       "<p>5572 rows × 5 columns</p>\n",
       "</div>"
      ],
      "text/plain": [
       "        v1                                                 v2 Unnamed: 2  \\\n",
       "0      ham  Go until jurong point, crazy.. Available only ...        NaN   \n",
       "1      ham                      Ok lar... Joking wif u oni...        NaN   \n",
       "2     spam  Free entry in 2 a wkly comp to win FA Cup fina...        NaN   \n",
       "3      ham  U dun say so early hor... U c already then say...        NaN   \n",
       "4      ham  Nah I don't think he goes to usf, he lives aro...        NaN   \n",
       "...    ...                                                ...        ...   \n",
       "5567  spam  This is the 2nd time we have tried 2 contact u...        NaN   \n",
       "5568   ham              Will Ì_ b going to esplanade fr home?        NaN   \n",
       "5569   ham  Pity, * was in mood for that. So...any other s...        NaN   \n",
       "5570   ham  The guy did some bitching but I acted like i'd...        NaN   \n",
       "5571   ham                         Rofl. Its true to its name        NaN   \n",
       "\n",
       "     Unnamed: 3 Unnamed: 4  \n",
       "0           NaN        NaN  \n",
       "1           NaN        NaN  \n",
       "2           NaN        NaN  \n",
       "3           NaN        NaN  \n",
       "4           NaN        NaN  \n",
       "...         ...        ...  \n",
       "5567        NaN        NaN  \n",
       "5568        NaN        NaN  \n",
       "5569        NaN        NaN  \n",
       "5570        NaN        NaN  \n",
       "5571        NaN        NaN  \n",
       "\n",
       "[5572 rows x 5 columns]"
      ]
     },
     "execution_count": 7,
     "metadata": {},
     "output_type": "execute_result"
    }
   ],
   "source": [
    "# Load data with encoding cp1252\n",
    "df = pd.read_csv(csv_path, encoding='cp1252')\n",
    "df"
   ]
  },
  {
   "cell_type": "markdown",
   "metadata": {
    "id": "gcsmKI7mciAc"
   },
   "source": [
    "# 3. Read data"
   ]
  },
  {
   "cell_type": "code",
   "execution_count": 8,
   "metadata": {
    "colab": {
     "base_uri": "https://localhost:8080/"
    },
    "executionInfo": {
     "elapsed": 45,
     "status": "ok",
     "timestamp": 1751321666353,
     "user": {
      "displayName": "Albert ROMANO",
      "userId": "04721031700914221121"
     },
     "user_tz": -120
    },
    "id": "gF-4V7FSciAc",
    "outputId": "9e638f92-3478-461f-aedc-e580716c3f0f"
   },
   "outputs": [
    {
     "name": "stdout",
     "output_type": "stream",
     "text": [
      "<class 'pandas.core.frame.DataFrame'>\n",
      "RangeIndex: 5572 entries, 0 to 5571\n",
      "Data columns (total 5 columns):\n",
      " #   Column      Non-Null Count  Dtype \n",
      "---  ------      --------------  ----- \n",
      " 0   v1          5572 non-null   object\n",
      " 1   v2          5572 non-null   object\n",
      " 2   Unnamed: 2  50 non-null     object\n",
      " 3   Unnamed: 3  12 non-null     object\n",
      " 4   Unnamed: 4  6 non-null      object\n",
      "dtypes: object(5)\n",
      "memory usage: 217.8+ KB\n"
     ]
    }
   ],
   "source": [
    "df.info()"
   ]
  },
  {
   "cell_type": "code",
   "execution_count": 9,
   "metadata": {},
   "outputs": [
    {
     "data": {
      "text/html": [
       "<div>\n",
       "<style scoped>\n",
       "    .dataframe tbody tr th:only-of-type {\n",
       "        vertical-align: middle;\n",
       "    }\n",
       "\n",
       "    .dataframe tbody tr th {\n",
       "        vertical-align: top;\n",
       "    }\n",
       "\n",
       "    .dataframe thead th {\n",
       "        text-align: right;\n",
       "    }\n",
       "</style>\n",
       "<table border=\"1\" class=\"dataframe\">\n",
       "  <thead>\n",
       "    <tr style=\"text-align: right;\">\n",
       "      <th></th>\n",
       "      <th>v1</th>\n",
       "      <th>v2</th>\n",
       "      <th>Unnamed: 2</th>\n",
       "      <th>Unnamed: 3</th>\n",
       "      <th>Unnamed: 4</th>\n",
       "    </tr>\n",
       "  </thead>\n",
       "  <tbody>\n",
       "    <tr>\n",
       "      <th>count</th>\n",
       "      <td>5572</td>\n",
       "      <td>5572</td>\n",
       "      <td>50</td>\n",
       "      <td>12</td>\n",
       "      <td>6</td>\n",
       "    </tr>\n",
       "    <tr>\n",
       "      <th>unique</th>\n",
       "      <td>2</td>\n",
       "      <td>5169</td>\n",
       "      <td>43</td>\n",
       "      <td>10</td>\n",
       "      <td>5</td>\n",
       "    </tr>\n",
       "    <tr>\n",
       "      <th>top</th>\n",
       "      <td>ham</td>\n",
       "      <td>Sorry, I'll call later</td>\n",
       "      <td>bt not his girlfrnd... G o o d n i g h t . . .@\"</td>\n",
       "      <td>MK17 92H. 450Ppw 16\"</td>\n",
       "      <td>GNT:-)\"</td>\n",
       "    </tr>\n",
       "    <tr>\n",
       "      <th>freq</th>\n",
       "      <td>4825</td>\n",
       "      <td>30</td>\n",
       "      <td>3</td>\n",
       "      <td>2</td>\n",
       "      <td>2</td>\n",
       "    </tr>\n",
       "  </tbody>\n",
       "</table>\n",
       "</div>"
      ],
      "text/plain": [
       "          v1                      v2  \\\n",
       "count   5572                    5572   \n",
       "unique     2                    5169   \n",
       "top      ham  Sorry, I'll call later   \n",
       "freq    4825                      30   \n",
       "\n",
       "                                               Unnamed: 2  \\\n",
       "count                                                  50   \n",
       "unique                                                 43   \n",
       "top      bt not his girlfrnd... G o o d n i g h t . . .@\"   \n",
       "freq                                                    3   \n",
       "\n",
       "                   Unnamed: 3 Unnamed: 4  \n",
       "count                      12          6  \n",
       "unique                     10          5  \n",
       "top      MK17 92H. 450Ppw 16\"    GNT:-)\"  \n",
       "freq                        2          2  "
      ]
     },
     "execution_count": 9,
     "metadata": {},
     "output_type": "execute_result"
    }
   ],
   "source": [
    "df.describe(include='all')"
   ]
  },
  {
   "cell_type": "markdown",
   "metadata": {},
   "source": [
    "It appears that some messages have been split into multiple columns."
   ]
  },
  {
   "cell_type": "markdown",
   "metadata": {
    "id": "1tdj542GciAd"
   },
   "source": [
    "# 4. Preprocessing"
   ]
  },
  {
   "cell_type": "code",
   "execution_count": 10,
   "metadata": {
    "colab": {
     "base_uri": "https://localhost:8080/",
     "height": 206
    },
    "executionInfo": {
     "elapsed": 32,
     "status": "ok",
     "timestamp": 1751321666457,
     "user": {
      "displayName": "Albert ROMANO",
      "userId": "04721031700914221121"
     },
     "user_tz": -120
    },
    "id": "PefFo8LrciAd",
    "outputId": "130df44b-3baa-45ef-f922-e7cdb9474c94"
   },
   "outputs": [
    {
     "data": {
      "text/html": [
       "<div>\n",
       "<style scoped>\n",
       "    .dataframe tbody tr th:only-of-type {\n",
       "        vertical-align: middle;\n",
       "    }\n",
       "\n",
       "    .dataframe tbody tr th {\n",
       "        vertical-align: top;\n",
       "    }\n",
       "\n",
       "    .dataframe thead th {\n",
       "        text-align: right;\n",
       "    }\n",
       "</style>\n",
       "<table border=\"1\" class=\"dataframe\">\n",
       "  <thead>\n",
       "    <tr style=\"text-align: right;\">\n",
       "      <th></th>\n",
       "      <th>v1</th>\n",
       "      <th>v2</th>\n",
       "      <th>Unnamed: 2</th>\n",
       "      <th>Unnamed: 3</th>\n",
       "      <th>Unnamed: 4</th>\n",
       "    </tr>\n",
       "  </thead>\n",
       "  <tbody>\n",
       "    <tr>\n",
       "      <th>0</th>\n",
       "      <td>ham</td>\n",
       "      <td>Go until jurong point, crazy.. Available only ...</td>\n",
       "      <td>NaN</td>\n",
       "      <td>NaN</td>\n",
       "      <td>NaN</td>\n",
       "    </tr>\n",
       "    <tr>\n",
       "      <th>1</th>\n",
       "      <td>ham</td>\n",
       "      <td>Ok lar... Joking wif u oni...</td>\n",
       "      <td>NaN</td>\n",
       "      <td>NaN</td>\n",
       "      <td>NaN</td>\n",
       "    </tr>\n",
       "    <tr>\n",
       "      <th>2</th>\n",
       "      <td>spam</td>\n",
       "      <td>Free entry in 2 a wkly comp to win FA Cup fina...</td>\n",
       "      <td>NaN</td>\n",
       "      <td>NaN</td>\n",
       "      <td>NaN</td>\n",
       "    </tr>\n",
       "    <tr>\n",
       "      <th>3</th>\n",
       "      <td>ham</td>\n",
       "      <td>U dun say so early hor... U c already then say...</td>\n",
       "      <td>NaN</td>\n",
       "      <td>NaN</td>\n",
       "      <td>NaN</td>\n",
       "    </tr>\n",
       "    <tr>\n",
       "      <th>4</th>\n",
       "      <td>ham</td>\n",
       "      <td>Nah I don't think he goes to usf, he lives aro...</td>\n",
       "      <td>NaN</td>\n",
       "      <td>NaN</td>\n",
       "      <td>NaN</td>\n",
       "    </tr>\n",
       "  </tbody>\n",
       "</table>\n",
       "</div>"
      ],
      "text/plain": [
       "     v1                                                 v2 Unnamed: 2  \\\n",
       "0   ham  Go until jurong point, crazy.. Available only ...        NaN   \n",
       "1   ham                      Ok lar... Joking wif u oni...        NaN   \n",
       "2  spam  Free entry in 2 a wkly comp to win FA Cup fina...        NaN   \n",
       "3   ham  U dun say so early hor... U c already then say...        NaN   \n",
       "4   ham  Nah I don't think he goes to usf, he lives aro...        NaN   \n",
       "\n",
       "  Unnamed: 3 Unnamed: 4  \n",
       "0        NaN        NaN  \n",
       "1        NaN        NaN  \n",
       "2        NaN        NaN  \n",
       "3        NaN        NaN  \n",
       "4        NaN        NaN  "
      ]
     },
     "execution_count": 10,
     "metadata": {},
     "output_type": "execute_result"
    }
   ],
   "source": [
    "# Copy data to make sure you don't have to reimport it\n",
    "df_v1 = df.copy(deep=True)\n",
    "df_v1.head()"
   ]
  },
  {
   "cell_type": "code",
   "execution_count": 11,
   "metadata": {
    "colab": {
     "base_uri": "https://localhost:8080/",
     "height": 206
    },
    "executionInfo": {
     "elapsed": 90,
     "status": "ok",
     "timestamp": 1751321666548,
     "user": {
      "displayName": "Albert ROMANO",
      "userId": "04721031700914221121"
     },
     "user_tz": -120
    },
    "id": "789XCvmPciAd",
    "outputId": "c84d16fc-9aa3-4026-96bc-068fbfb72e62"
   },
   "outputs": [
    {
     "data": {
      "text/html": [
       "<div>\n",
       "<style scoped>\n",
       "    .dataframe tbody tr th:only-of-type {\n",
       "        vertical-align: middle;\n",
       "    }\n",
       "\n",
       "    .dataframe tbody tr th {\n",
       "        vertical-align: top;\n",
       "    }\n",
       "\n",
       "    .dataframe thead th {\n",
       "        text-align: right;\n",
       "    }\n",
       "</style>\n",
       "<table border=\"1\" class=\"dataframe\">\n",
       "  <thead>\n",
       "    <tr style=\"text-align: right;\">\n",
       "      <th></th>\n",
       "      <th>v1</th>\n",
       "      <th>v2</th>\n",
       "      <th>Unnamed: 2</th>\n",
       "      <th>Unnamed: 3</th>\n",
       "      <th>Unnamed: 4</th>\n",
       "    </tr>\n",
       "  </thead>\n",
       "  <tbody>\n",
       "    <tr>\n",
       "      <th>0</th>\n",
       "      <td>ham</td>\n",
       "      <td>Go until jurong point, crazy.. Available only ...</td>\n",
       "      <td></td>\n",
       "      <td></td>\n",
       "      <td></td>\n",
       "    </tr>\n",
       "    <tr>\n",
       "      <th>1</th>\n",
       "      <td>ham</td>\n",
       "      <td>Ok lar... Joking wif u oni...</td>\n",
       "      <td></td>\n",
       "      <td></td>\n",
       "      <td></td>\n",
       "    </tr>\n",
       "    <tr>\n",
       "      <th>2</th>\n",
       "      <td>spam</td>\n",
       "      <td>Free entry in 2 a wkly comp to win FA Cup fina...</td>\n",
       "      <td></td>\n",
       "      <td></td>\n",
       "      <td></td>\n",
       "    </tr>\n",
       "    <tr>\n",
       "      <th>3</th>\n",
       "      <td>ham</td>\n",
       "      <td>U dun say so early hor... U c already then say...</td>\n",
       "      <td></td>\n",
       "      <td></td>\n",
       "      <td></td>\n",
       "    </tr>\n",
       "    <tr>\n",
       "      <th>4</th>\n",
       "      <td>ham</td>\n",
       "      <td>Nah I don't think he goes to usf, he lives aro...</td>\n",
       "      <td></td>\n",
       "      <td></td>\n",
       "      <td></td>\n",
       "    </tr>\n",
       "  </tbody>\n",
       "</table>\n",
       "</div>"
      ],
      "text/plain": [
       "     v1                                                 v2 Unnamed: 2  \\\n",
       "0   ham  Go until jurong point, crazy.. Available only ...              \n",
       "1   ham                      Ok lar... Joking wif u oni...              \n",
       "2  spam  Free entry in 2 a wkly comp to win FA Cup fina...              \n",
       "3   ham  U dun say so early hor... U c already then say...              \n",
       "4   ham  Nah I don't think he goes to usf, he lives aro...              \n",
       "\n",
       "  Unnamed: 3 Unnamed: 4  \n",
       "0                        \n",
       "1                        \n",
       "2                        \n",
       "3                        \n",
       "4                        "
      ]
     },
     "execution_count": 11,
     "metadata": {},
     "output_type": "execute_result"
    }
   ],
   "source": [
    "# Merge columns\n",
    "for i in range(2,5,1):\n",
    "    df_v1[f'Unnamed: {i}'] = df_v1[f'Unnamed: {i}'].fillna(\"\")\n",
    "\n",
    "df_v1['v2']=pd.concat([df_v1['v2'],df_v1['Unnamed: 2'],df_v1['Unnamed: 3'],df_v1['Unnamed: 4']], ignore_index=True)\n",
    "\n",
    "df_v1.head()"
   ]
  },
  {
   "cell_type": "code",
   "execution_count": 12,
   "metadata": {
    "colab": {
     "base_uri": "https://localhost:8080/",
     "height": 206
    },
    "executionInfo": {
     "elapsed": 7,
     "status": "ok",
     "timestamp": 1751321666549,
     "user": {
      "displayName": "Albert ROMANO",
      "userId": "04721031700914221121"
     },
     "user_tz": -120
    },
    "id": "T9mwuP_EciAe",
    "outputId": "becd5cc8-2c76-43d8-d8d2-c7cd1628392f"
   },
   "outputs": [
    {
     "data": {
      "text/html": [
       "<div>\n",
       "<style scoped>\n",
       "    .dataframe tbody tr th:only-of-type {\n",
       "        vertical-align: middle;\n",
       "    }\n",
       "\n",
       "    .dataframe tbody tr th {\n",
       "        vertical-align: top;\n",
       "    }\n",
       "\n",
       "    .dataframe thead th {\n",
       "        text-align: right;\n",
       "    }\n",
       "</style>\n",
       "<table border=\"1\" class=\"dataframe\">\n",
       "  <thead>\n",
       "    <tr style=\"text-align: right;\">\n",
       "      <th></th>\n",
       "      <th>label</th>\n",
       "      <th>text</th>\n",
       "    </tr>\n",
       "  </thead>\n",
       "  <tbody>\n",
       "    <tr>\n",
       "      <th>0</th>\n",
       "      <td>ham</td>\n",
       "      <td>Go until jurong point, crazy.. Available only ...</td>\n",
       "    </tr>\n",
       "    <tr>\n",
       "      <th>1</th>\n",
       "      <td>ham</td>\n",
       "      <td>Ok lar... Joking wif u oni...</td>\n",
       "    </tr>\n",
       "    <tr>\n",
       "      <th>2</th>\n",
       "      <td>spam</td>\n",
       "      <td>Free entry in 2 a wkly comp to win FA Cup fina...</td>\n",
       "    </tr>\n",
       "    <tr>\n",
       "      <th>3</th>\n",
       "      <td>ham</td>\n",
       "      <td>U dun say so early hor... U c already then say...</td>\n",
       "    </tr>\n",
       "    <tr>\n",
       "      <th>4</th>\n",
       "      <td>ham</td>\n",
       "      <td>Nah I don't think he goes to usf, he lives aro...</td>\n",
       "    </tr>\n",
       "  </tbody>\n",
       "</table>\n",
       "</div>"
      ],
      "text/plain": [
       "  label                                               text\n",
       "0   ham  Go until jurong point, crazy.. Available only ...\n",
       "1   ham                      Ok lar... Joking wif u oni...\n",
       "2  spam  Free entry in 2 a wkly comp to win FA Cup fina...\n",
       "3   ham  U dun say so early hor... U c already then say...\n",
       "4   ham  Nah I don't think he goes to usf, he lives aro..."
      ]
     },
     "execution_count": 12,
     "metadata": {},
     "output_type": "execute_result"
    }
   ],
   "source": [
    "# Rename columns and drop the empty ones\n",
    "df_v1 = df_v1[['v1', 'v2']].set_axis(['label', 'text'], axis=1)\n",
    "df_v1.head()"
   ]
  },
  {
   "cell_type": "code",
   "execution_count": 13,
   "metadata": {
    "colab": {
     "base_uri": "https://localhost:8080/",
     "height": 206
    },
    "executionInfo": {
     "elapsed": 42,
     "status": "ok",
     "timestamp": 1751321666588,
     "user": {
      "displayName": "Albert ROMANO",
      "userId": "04721031700914221121"
     },
     "user_tz": -120
    },
    "id": "bQYqltXeciAe",
    "outputId": "9fa53e22-f779-4862-e24c-f79f76e20690"
   },
   "outputs": [
    {
     "data": {
      "text/html": [
       "<div>\n",
       "<style scoped>\n",
       "    .dataframe tbody tr th:only-of-type {\n",
       "        vertical-align: middle;\n",
       "    }\n",
       "\n",
       "    .dataframe tbody tr th {\n",
       "        vertical-align: top;\n",
       "    }\n",
       "\n",
       "    .dataframe thead th {\n",
       "        text-align: right;\n",
       "    }\n",
       "</style>\n",
       "<table border=\"1\" class=\"dataframe\">\n",
       "  <thead>\n",
       "    <tr style=\"text-align: right;\">\n",
       "      <th></th>\n",
       "      <th>label</th>\n",
       "      <th>text</th>\n",
       "    </tr>\n",
       "  </thead>\n",
       "  <tbody>\n",
       "    <tr>\n",
       "      <th>0</th>\n",
       "      <td>0</td>\n",
       "      <td>Go until jurong point, crazy.. Available only ...</td>\n",
       "    </tr>\n",
       "    <tr>\n",
       "      <th>1</th>\n",
       "      <td>0</td>\n",
       "      <td>Ok lar... Joking wif u oni...</td>\n",
       "    </tr>\n",
       "    <tr>\n",
       "      <th>2</th>\n",
       "      <td>1</td>\n",
       "      <td>Free entry in 2 a wkly comp to win FA Cup fina...</td>\n",
       "    </tr>\n",
       "    <tr>\n",
       "      <th>3</th>\n",
       "      <td>0</td>\n",
       "      <td>U dun say so early hor... U c already then say...</td>\n",
       "    </tr>\n",
       "    <tr>\n",
       "      <th>4</th>\n",
       "      <td>0</td>\n",
       "      <td>Nah I don't think he goes to usf, he lives aro...</td>\n",
       "    </tr>\n",
       "  </tbody>\n",
       "</table>\n",
       "</div>"
      ],
      "text/plain": [
       "   label                                               text\n",
       "0      0  Go until jurong point, crazy.. Available only ...\n",
       "1      0                      Ok lar... Joking wif u oni...\n",
       "2      1  Free entry in 2 a wkly comp to win FA Cup fina...\n",
       "3      0  U dun say so early hor... U c already then say...\n",
       "4      0  Nah I don't think he goes to usf, he lives aro..."
      ]
     },
     "execution_count": 13,
     "metadata": {},
     "output_type": "execute_result"
    }
   ],
   "source": [
    "# Transform ham/spam labels into => 0/1\n",
    "df_v1['label'] = df_v1['label'].map({'ham':0,'spam':1})\n",
    "df_v1.head()"
   ]
  },
  {
   "cell_type": "code",
   "execution_count": 14,
   "metadata": {
    "colab": {
     "base_uri": "https://localhost:8080/"
    },
    "executionInfo": {
     "elapsed": 19,
     "status": "ok",
     "timestamp": 1751321666604,
     "user": {
      "displayName": "Albert ROMANO",
      "userId": "04721031700914221121"
     },
     "user_tz": -120
    },
    "id": "dVMfilFZciAe",
    "outputId": "b1bd49e2-fd3e-4c03-ae16-4208cbe8f1ba"
   },
   "outputs": [
    {
     "name": "stdout",
     "output_type": "stream",
     "text": [
      "Percentage of spam in the corpus: 13.41 %\n"
     ]
    }
   ],
   "source": [
    "# Calculate the percentage of spam in the entire corpus\n",
    "percent = (df_v1['label'].mean())*100\n",
    "print(f'Percentage of spam in the corpus: {percent:,.2f} %')"
   ]
  },
  {
   "cell_type": "markdown",
   "metadata": {
    "id": "EJzW23LzciAf"
   },
   "source": [
    "# 5. Simple deep learning model"
   ]
  },
  {
   "cell_type": "markdown",
   "metadata": {
    "id": "X5k514wbciAf"
   },
   "source": [
    "## 5.1 Preprocessing for embedding work\n",
    "\n",
    "We will now go through a preprocessing phase. The goal is to convert the character strings into sequences of tokens represented by integers."
   ]
  },
  {
   "cell_type": "markdown",
   "metadata": {
    "id": "GeDIMMJWciAf"
   },
   "source": [
    "1. We use the tiktoken library in order to tokenize each sentence based on the `cl100k_base` tokenizer."
   ]
  },
  {
   "cell_type": "code",
   "execution_count": 15,
   "metadata": {
    "colab": {
     "base_uri": "https://localhost:8080/"
    },
    "executionInfo": {
     "elapsed": 3997,
     "status": "ok",
     "timestamp": 1751318239127,
     "user": {
      "displayName": "Albert ROMANO",
      "userId": "04721031700914221121"
     },
     "user_tz": -120
    },
    "id": "lnxIZOZpciAn",
    "outputId": "ae97fcce-10a0-4159-858f-e96806eabcf5"
   },
   "outputs": [
    {
     "data": {
      "text/plain": [
       "[11087, 3156, 16422, 647, 1486, 11, 14599, 497, 16528, 1193]"
      ]
     },
     "execution_count": 15,
     "metadata": {},
     "output_type": "execute_result"
    }
   ],
   "source": [
    "tokenizer = tiktoken.get_encoding(\"cl100k_base\")\n",
    "\n",
    "def encode_texts(texts):\n",
    "    return [tokenizer.encode(text) for text in texts]\n",
    "\n",
    "train_tokens = encode_texts(df_v1['text'])\n",
    "\n",
    "# print the first ten tokens of the first tokenized sentence\n",
    "train_tokens[0][:10]"
   ]
  },
  {
   "cell_type": "markdown",
   "metadata": {
    "id": "qcl3M6ggciAn"
   },
   "source": [
    "2. In order to build the data loader, we need all sequences to be of the same length. We calculate the max and average senquence length, and decide which length we want all sequences to adopt."
   ]
  },
  {
   "cell_type": "code",
   "execution_count": 16,
   "metadata": {
    "colab": {
     "base_uri": "https://localhost:8080/",
     "height": 612
    },
    "executionInfo": {
     "elapsed": 2635,
     "status": "ok",
     "timestamp": 1751318241791,
     "user": {
      "displayName": "Albert ROMANO",
      "userId": "04721031700914221121"
     },
     "user_tz": -120
    },
    "id": "nbi5iPtfciAo",
    "outputId": "6fb12e3f-e129-4611-e7aa-0b8c2f28cd12"
   },
   "outputs": [
    {
     "name": "stdout",
     "output_type": "stream",
     "text": [
      "avg seq len : 22.48707824838478\n",
      "max seq len : 259\n",
      "min seq len : 1\n"
     ]
    },
    {
     "data": {
      "image/png": "[encoded data removed]",
      "text/plain": [
       "<Figure size 1000x600 with 1 Axes>"
      ]
     },
     "metadata": {},
     "output_type": "display_data"
    }
   ],
   "source": [
    "# Longueurs des séquences\n",
    "seq_lens = [len(seq) for seq in train_tokens]\n",
    "\n",
    "# Statistiques utiles\n",
    "print(\"avg seq len :\", np.mean(seq_lens))\n",
    "print(\"max seq len :\", np.max(seq_lens))\n",
    "print(\"min seq len :\", np.min(seq_lens))\n",
    "\n",
    "# Tracé de l’histogramme\n",
    "plt.figure(figsize=(10, 6))\n",
    "sns.histplot(seq_lens, bins=50, kde=True, color='skyblue')\n",
    "plt.title(\"Distribution des longueurs de séquences\")\n",
    "plt.xlabel(\"Longueur de séquence (nombre de tokens)\")\n",
    "plt.ylabel(\"Nombre de textes\")\n",
    "plt.axvline(x=np.mean(seq_lens), color='red', linestyle='--', label='Moyenne')\n",
    "plt.grid(True)\n",
    "plt.tight_layout()\n",
    "plt.show()\n"
   ]
  },
  {
   "cell_type": "markdown",
   "metadata": {},
   "source": [
    "\n",
    "We estimate that a padding sequence of 200 would be sufficient."
   ]
  },
  {
   "cell_type": "code",
   "execution_count": 17,
   "metadata": {
    "executionInfo": {
     "elapsed": 24,
     "status": "ok",
     "timestamp": 1751318241813,
     "user": {
      "displayName": "Albert ROMANO",
      "userId": "04721031700914221121"
     },
     "user_tz": -120
    },
    "id": "QQsPYGG4ciAo"
   },
   "outputs": [],
   "source": [
    "def pad_sequences(sequences, max_length=200):\n",
    "    return [seq[:max_length] + [0] * (max_length - len(seq)) for seq in sequences]\n",
    "\n",
    "train_tokens = pad_sequences(train_tokens)"
   ]
  },
  {
   "cell_type": "markdown",
   "metadata": {
    "id": "epmSnupOciAo"
   },
   "source": [
    "3. We form a torch dataset object based on the token sequences and labels, and split the data into a train and validation set."
   ]
  },
  {
   "cell_type": "code",
   "execution_count": 18,
   "metadata": {
    "executionInfo": {
     "elapsed": 205,
     "status": "ok",
     "timestamp": 1751318242018,
     "user": {
      "displayName": "Albert ROMANO",
      "userId": "04721031700914221121"
     },
     "user_tz": -120
    },
    "id": "8qokbl9FciAo"
   },
   "outputs": [],
   "source": [
    "# Define a custom PyTorch dataset class for SPAM detection\n",
    "class SPAMDataset(Dataset):\n",
    "    \"\"\"\n",
    "    A custom dataset class for SPAM detection.\n",
    "\n",
    "    This class is used to convert text data (already tokenized) and their corresponding labels\n",
    "    into a PyTorch Dataset object, which can be easily loaded into a DataLoader.\n",
    "    \"\"\"\n",
    "\n",
    "    def __init__(self, texts, labels):\n",
    "        \"\"\"\n",
    "        Initializes the dataset by storing texts and labels as PyTorch tensors.\n",
    "\n",
    "        Args:\n",
    "        - texts (list or numpy array): Tokenized text data, where each text has been converted\n",
    "                                       into a sequence of word indices (integer tokens).\n",
    "        - labels (list or numpy array): The corresponding labels for each text .\n",
    "        \"\"\"\n",
    "        # Convert text sequences to a PyTorch tensor (long type since they are indices)\n",
    "        self.texts = torch.tensor(texts, dtype=torch.long)\n",
    "\n",
    "        # Convert labels to a PyTorch tensor (float32 for compatibility with loss functions)\n",
    "        self.labels = torch.tensor(labels, dtype=torch.float32)\n",
    "\n",
    "    def __len__(self):\n",
    "        \"\"\"\n",
    "        Returns the total number of samples in the dataset.\n",
    "\n",
    "        This method is required for PyTorch datasets as it allows DataLoader to determine\n",
    "        how many batches it needs.\n",
    "        \"\"\"\n",
    "        return len(self.texts)\n",
    "\n",
    "    def __getitem__(self, idx):\n",
    "        \"\"\"\n",
    "        Retrieves a single data point (text and label) from the dataset based on an index.\n",
    "\n",
    "        Args:\n",
    "        - idx (int): Index of the sample to retrieve.\n",
    "\n",
    "        Returns:\n",
    "        - tuple: A tuple containing:\n",
    "            - self.texts[idx]: The tokenized text at index `idx`.\n",
    "            - self.labels[idx]: The corresponding label for that text.\n",
    "        \"\"\"\n",
    "        return self.texts[idx], self.labels[idx]\n",
    "\n",
    "# Example usage: Creating a dataset instance\n",
    "df_dataset = SPAMDataset(train_tokens, df_v1['label'])\n",
    "\n",
    "# Split dataset into training (80%) and validation (20%)\n",
    "train_size = int(0.8 * len(df_dataset))\n",
    "val_size = len(df_dataset) - train_size\n",
    "train_dataset, val_dataset = random_split(df_dataset, [train_size, val_size])\n",
    "\n",
    "# Create DataLoaders\n",
    "train_loader = DataLoader(train_dataset, batch_size=32, shuffle=True)\n",
    "val_loader = DataLoader(val_dataset, batch_size=32, shuffle=False)"
   ]
  },
  {
   "cell_type": "code",
   "execution_count": 19,
   "metadata": {
    "colab": {
     "base_uri": "https://localhost:8080/"
    },
    "executionInfo": {
     "elapsed": 185,
     "status": "ok",
     "timestamp": 1751318242204,
     "user": {
      "displayName": "Albert ROMANO",
      "userId": "04721031700914221121"
     },
     "user_tz": -120
    },
    "id": "63RaBcBsciAo",
    "outputId": "37fc2085-4b52-47a8-ca31-7423b071b4cd"
   },
   "outputs": [
    {
     "name": "stdout",
     "output_type": "stream",
     "text": [
      "tensor([0., 0., 0., 0., 0., 0., 0., 0., 0., 1., 0., 0., 0., 0., 0., 0., 0., 0.,\n",
      "        0., 0., 0., 0., 1., 0., 0., 0., 0., 0., 0., 0., 0., 0.])\n",
      "tensor([[   40,   649,   956,  ...,     0,     0,     0],\n",
      "        [ 9642,   497,   383,  ...,     0,     0,     0],\n",
      "        [ 7749, 41698,    11,  ...,     0,     0,     0],\n",
      "        ...,\n",
      "        [   45,    83,  1193,  ...,     0,     0,     0],\n",
      "        [ 2675,  1436,   617,  ...,     0,     0,     0],\n",
      "        [27125,  1099,    23,  ...,     0,     0,     0]])\n"
     ]
    }
   ],
   "source": [
    "text, label = next(iter(train_loader))\n",
    "print(label)\n",
    "print(text)"
   ]
  },
  {
   "cell_type": "markdown",
   "metadata": {
    "id": "M16hcEuuaQVm"
   },
   "source": [
    "We have imported data corresponding to spam classication organized in binary categories.   \n",
    "We'll load the text data into python variables."
   ]
  },
  {
   "cell_type": "markdown",
   "metadata": {
    "id": "7o5Net_am6j4"
   },
   "source": [
    "## 5.2 Creating model"
   ]
  },
  {
   "cell_type": "code",
   "execution_count": 20,
   "metadata": {
    "executionInfo": {
     "elapsed": 246,
     "status": "ok",
     "timestamp": 1751318242449,
     "user": {
      "displayName": "Albert ROMANO",
      "userId": "04721031700914221121"
     },
     "user_tz": -120
    },
    "id": "L-1U8eAh2rFN"
   },
   "outputs": [],
   "source": [
    "# Get the vocabulary size from the tokenizer\n",
    "# This represents the total number of unique words in the dataset,\n",
    "# which will be used as the input size for the embedding layer.\n",
    "\n",
    "vocab_size = tokenizer.n_vocab\n",
    "\n",
    "class TextClassifier(nn.Module):\n",
    "    def __init__(self, vocab_size, embed_dim, num_class):\n",
    "        \"\"\"\n",
    "        Initializes the model layers.\n",
    "\n",
    "        Args:\n",
    "        - vocab_size (int): The number of unique words in the vocabulary.\n",
    "        - embed_dim (int): The size of each word's embedding vector.\n",
    "        \"\"\"\n",
    "        super(TextClassifier, self).__init__()\n",
    "        \n",
    "        # Embedding layer: Maps word indices to dense vector representations\n",
    "        # padding_idx=0 ensures that padding tokens (index 0) do not contribute to learning\n",
    "        self.embedding = nn.Embedding(vocab_size, embed_dim, padding_idx=0)\n",
    "        \n",
    "        # Adaptive Average Pooling: Computes the average of the word embeddings along the sequence length\n",
    "        # This helps reduce variable-length text into a fixed-size representation\n",
    "        self.pooling = nn.AdaptiveAvgPool1d(1)\n",
    "        \n",
    "        # Fully Connected (Linear) layer: Maps the fixed-size vector to the number of classes\n",
    "        self.fc = nn.Linear(embed_dim, num_class)\n",
    "\n",
    "    def forward(self, text):\n",
    "        \"\"\"\n",
    "        Defines the forward pass of the model.\n",
    "\n",
    "        Args:\n",
    "        - text (Tensor): A batch of tokenized text (word indices).\n",
    "\n",
    "        Returns:\n",
    "        - Tensor: The predicted output (e.g., a continuous score or rating).\n",
    "        \"\"\"\n",
    "        # Convert input word indices into dense embeddings\n",
    "        embedded = self.embedding(text)\n",
    "\n",
    "        # Permute to match the expected shape for pooling: (batch, channels, sequence_length)\n",
    "        # Then, apply average pooling to reduce sequence length to 1\n",
    "        pooled = self.pooling(embedded.permute(0, 2, 1)).squeeze(2)\n",
    "        # Pass the pooled embeddings through the linear layer to get the final prediction\n",
    "        # Sigmoid is for making prediction between 0 and 1\n",
    "        return torch.sigmoid(self.fc(pooled))\n",
    "\n",
    "\n",
    "# Create an instance of the model\n",
    "model = TextClassifier(vocab_size=vocab_size,\n",
    "                      embed_dim=16,\n",
    "                      num_class=1)"
   ]
  },
  {
   "cell_type": "code",
   "execution_count": 21,
   "metadata": {
    "colab": {
     "base_uri": "https://localhost:8080/"
    },
    "executionInfo": {
     "elapsed": 122,
     "status": "ok",
     "timestamp": 1751318242575,
     "user": {
      "displayName": "Albert ROMANO",
      "userId": "04721031700914221121"
     },
     "user_tz": -120
    },
    "id": "Rt7uYtlCciAp",
    "outputId": "6382791e-7fc1-4e9b-f4b3-7a91ba743d76"
   },
   "outputs": [
    {
     "name": "stdout",
     "output_type": "stream",
     "text": [
      "TextClassifier(\n",
      "  (embedding): Embedding(100277, 16, padding_idx=0)\n",
      "  (pooling): AdaptiveAvgPool1d(output_size=1)\n",
      "  (fc): Linear(in_features=16, out_features=1, bias=True)\n",
      ")\n"
     ]
    },
    {
     "data": {
      "text/plain": [
       "==========================================================================================\n",
       "Layer (type:depth-idx)                   Output Shape              Param #\n",
       "==========================================================================================\n",
       "TextClassifier                           [32, 1]                   --\n",
       "├─Embedding: 1-1                         [32, 200, 16]             1,604,432\n",
       "├─AdaptiveAvgPool1d: 1-2                 [32, 16, 1]               --\n",
       "├─Linear: 1-3                            [32, 1]                   17\n",
       "==========================================================================================\n",
       "Total params: 1,604,449\n",
       "Trainable params: 1,604,449\n",
       "Non-trainable params: 0\n",
       "Total mult-adds (M): 51.34\n",
       "==========================================================================================\n",
       "Input size (MB): 0.05\n",
       "Forward/backward pass size (MB): 0.82\n",
       "Params size (MB): 6.42\n",
       "Estimated Total Size (MB): 7.29\n",
       "=========================================================================================="
      ]
     },
     "execution_count": 21,
     "metadata": {},
     "output_type": "execute_result"
    }
   ],
   "source": [
    "print(model)\n",
    "\n",
    "# Print model summary\n",
    "summary(model, input_data=text)"
   ]
  },
  {
   "cell_type": "markdown",
   "metadata": {
    "id": "AeB8sFzqj_Wu"
   },
   "source": [
    "## 5.3 Training model"
   ]
  },
  {
   "cell_type": "code",
   "execution_count": 22,
   "metadata": {
    "colab": {
     "base_uri": "https://localhost:8080/"
    },
    "executionInfo": {
     "elapsed": 220909,
     "status": "ok",
     "timestamp": 1751318463483,
     "user": {
      "displayName": "Albert ROMANO",
      "userId": "04721031700914221121"
     },
     "user_tz": -120
    },
    "id": "aVqh5M_O3sEu",
    "outputId": "ecc17787-5532-4791-ba65-3b748eb3bd21"
   },
   "outputs": [
    {
     "name": "stdout",
     "output_type": "stream",
     "text": [
      "Epoch [1/60], Loss: 0.6881, Acc: 0.5623, Val Loss: 0.6576, Val Acc: 0.8673\n",
      "Epoch [2/60], Loss: 0.6264, Acc: 0.8656, Val Loss: 0.5933, Val Acc: 0.8673\n",
      "Epoch [3/60], Loss: 0.5604, Acc: 0.8663, Val Loss: 0.5260, Val Acc: 0.8673\n",
      "Epoch [4/60], Loss: 0.4925, Acc: 0.8735, Val Loss: 0.4597, Val Acc: 0.8753\n",
      "Epoch [5/60], Loss: 0.4287, Acc: 0.8892, Val Loss: 0.3992, Val Acc: 0.8960\n",
      "Epoch [6/60], Loss: 0.3711, Acc: 0.9085, Val Loss: 0.3478, Val Acc: 0.9157\n",
      "Epoch [7/60], Loss: 0.3229, Acc: 0.9253, Val Loss: 0.3043, Val Acc: 0.9318\n",
      "Epoch [8/60], Loss: 0.2809, Acc: 0.9403, Val Loss: 0.2682, Val Acc: 0.9417\n",
      "Epoch [9/60], Loss: 0.2463, Acc: 0.9509, Val Loss: 0.2379, Val Acc: 0.9480\n",
      "Epoch [10/60], Loss: 0.2169, Acc: 0.9576, Val Loss: 0.2129, Val Acc: 0.9578\n",
      "Epoch [11/60], Loss: 0.1926, Acc: 0.9623, Val Loss: 0.1921, Val Acc: 0.9614\n",
      "Epoch [12/60], Loss: 0.1721, Acc: 0.9675, Val Loss: 0.1746, Val Acc: 0.9659\n",
      "Epoch [13/60], Loss: 0.1555, Acc: 0.9722, Val Loss: 0.1599, Val Acc: 0.9713\n",
      "Epoch [14/60], Loss: 0.1403, Acc: 0.9746, Val Loss: 0.1474, Val Acc: 0.9731\n",
      "Epoch [15/60], Loss: 0.1280, Acc: 0.9782, Val Loss: 0.1367, Val Acc: 0.9749\n",
      "Epoch [16/60], Loss: 0.1175, Acc: 0.9807, Val Loss: 0.1275, Val Acc: 0.9767\n",
      "Epoch [17/60], Loss: 0.1080, Acc: 0.9816, Val Loss: 0.1195, Val Acc: 0.9785\n",
      "Epoch [18/60], Loss: 0.0996, Acc: 0.9825, Val Loss: 0.1125, Val Acc: 0.9794\n",
      "Epoch [19/60], Loss: 0.0935, Acc: 0.9843, Val Loss: 0.1064, Val Acc: 0.9803\n",
      "Epoch [20/60], Loss: 0.0856, Acc: 0.9863, Val Loss: 0.1009, Val Acc: 0.9812\n",
      "Epoch [21/60], Loss: 0.0803, Acc: 0.9874, Val Loss: 0.0962, Val Acc: 0.9821\n",
      "Epoch [22/60], Loss: 0.0744, Acc: 0.9883, Val Loss: 0.0919, Val Acc: 0.9821\n",
      "Epoch [23/60], Loss: 0.0697, Acc: 0.9886, Val Loss: 0.0881, Val Acc: 0.9821\n",
      "Epoch [24/60], Loss: 0.0655, Acc: 0.9890, Val Loss: 0.0846, Val Acc: 0.9830\n",
      "Epoch [25/60], Loss: 0.0614, Acc: 0.9899, Val Loss: 0.0814, Val Acc: 0.9839\n",
      "Epoch [26/60], Loss: 0.0584, Acc: 0.9901, Val Loss: 0.0787, Val Acc: 0.9839\n",
      "Epoch [27/60], Loss: 0.0545, Acc: 0.9910, Val Loss: 0.0761, Val Acc: 0.9839\n",
      "Epoch [28/60], Loss: 0.0515, Acc: 0.9912, Val Loss: 0.0737, Val Acc: 0.9848\n",
      "Epoch [29/60], Loss: 0.0487, Acc: 0.9915, Val Loss: 0.0715, Val Acc: 0.9857\n",
      "Epoch [30/60], Loss: 0.0460, Acc: 0.9917, Val Loss: 0.0696, Val Acc: 0.9857\n",
      "Epoch [31/60], Loss: 0.0436, Acc: 0.9919, Val Loss: 0.0678, Val Acc: 0.9857\n",
      "Epoch [32/60], Loss: 0.0416, Acc: 0.9924, Val Loss: 0.0661, Val Acc: 0.9857\n",
      "Epoch [33/60], Loss: 0.0392, Acc: 0.9926, Val Loss: 0.0644, Val Acc: 0.9865\n",
      "Epoch [34/60], Loss: 0.0373, Acc: 0.9930, Val Loss: 0.0630, Val Acc: 0.9865\n",
      "Epoch [35/60], Loss: 0.0354, Acc: 0.9937, Val Loss: 0.0617, Val Acc: 0.9865\n",
      "Epoch [36/60], Loss: 0.0337, Acc: 0.9939, Val Loss: 0.0605, Val Acc: 0.9865\n",
      "Epoch [37/60], Loss: 0.0320, Acc: 0.9942, Val Loss: 0.0593, Val Acc: 0.9865\n",
      "Epoch [38/60], Loss: 0.0305, Acc: 0.9946, Val Loss: 0.0582, Val Acc: 0.9865\n",
      "Epoch [39/60], Loss: 0.0290, Acc: 0.9948, Val Loss: 0.0572, Val Acc: 0.9874\n",
      "Epoch [40/60], Loss: 0.0276, Acc: 0.9953, Val Loss: 0.0563, Val Acc: 0.9883\n",
      "Epoch [41/60], Loss: 0.0263, Acc: 0.9953, Val Loss: 0.0554, Val Acc: 0.9883\n",
      "Epoch [42/60], Loss: 0.0250, Acc: 0.9955, Val Loss: 0.0546, Val Acc: 0.9883\n",
      "Epoch [43/60], Loss: 0.0238, Acc: 0.9955, Val Loss: 0.0539, Val Acc: 0.9883\n",
      "Epoch [44/60], Loss: 0.0227, Acc: 0.9955, Val Loss: 0.0532, Val Acc: 0.9883\n",
      "Epoch [45/60], Loss: 0.0216, Acc: 0.9955, Val Loss: 0.0525, Val Acc: 0.9883\n",
      "Epoch [46/60], Loss: 0.0206, Acc: 0.9960, Val Loss: 0.0519, Val Acc: 0.9883\n",
      "Epoch [47/60], Loss: 0.0196, Acc: 0.9962, Val Loss: 0.0513, Val Acc: 0.9883\n",
      "Epoch [48/60], Loss: 0.0187, Acc: 0.9962, Val Loss: 0.0508, Val Acc: 0.9883\n",
      "Epoch [49/60], Loss: 0.0178, Acc: 0.9962, Val Loss: 0.0503, Val Acc: 0.9883\n",
      "Epoch [50/60], Loss: 0.0169, Acc: 0.9966, Val Loss: 0.0498, Val Acc: 0.9883\n",
      "Epoch [51/60], Loss: 0.0161, Acc: 0.9969, Val Loss: 0.0494, Val Acc: 0.9883\n",
      "Epoch [52/60], Loss: 0.0154, Acc: 0.9969, Val Loss: 0.0490, Val Acc: 0.9883\n",
      "Epoch [53/60], Loss: 0.0146, Acc: 0.9969, Val Loss: 0.0487, Val Acc: 0.9883\n",
      "Epoch [54/60], Loss: 0.0139, Acc: 0.9973, Val Loss: 0.0483, Val Acc: 0.9883\n",
      "Epoch [55/60], Loss: 0.0132, Acc: 0.9973, Val Loss: 0.0481, Val Acc: 0.9883\n",
      "Epoch [56/60], Loss: 0.0126, Acc: 0.9980, Val Loss: 0.0478, Val Acc: 0.9883\n",
      "Epoch [57/60], Loss: 0.0123, Acc: 0.9982, Val Loss: 0.0476, Val Acc: 0.9883\n",
      "Epoch [58/60], Loss: 0.0114, Acc: 0.9982, Val Loss: 0.0474, Val Acc: 0.9883\n",
      "Epoch [59/60], Loss: 0.0108, Acc: 0.9982, Val Loss: 0.0472, Val Acc: 0.9883\n",
      "Epoch [60/60], Loss: 0.0102, Acc: 0.9982, Val Loss: 0.0470, Val Acc: 0.9883\n"
     ]
    }
   ],
   "source": [
    "# Compile the model\n",
    "criterion = nn.BCELoss()\n",
    "optimizer = optim.Adam(model.parameters(), lr=0.001)\n",
    "\n",
    "def train(model, train_loader, val_loader, criterion, optimizer, epochs=200, device=device):\n",
    "    \"\"\"\n",
    "    Function to train a PyTorch model with training and validation datasets.\n",
    "\n",
    "    Parameters:\n",
    "    model: The neural network model to train.\n",
    "    train_loader: DataLoader for the training dataset.\n",
    "    val_loader: DataLoader for the validation dataset.\n",
    "    criterion: Loss function (e.g., Binary Cross Entropy for classification).\n",
    "    optimizer: Optimization algorithm (e.g., Adam, SGD).\n",
    "    epochs: Number of training epochs (default=100).\n",
    "\n",
    "    Returns:\n",
    "    history: Dictionary containing loss and accuracy for both training and validation.\n",
    "    \"\"\"\n",
    "\n",
    "    # Dictionary to store training & validation loss and accuracy over epochs\n",
    "    history = {'loss': [], 'val_loss': [], 'accuracy': [], 'val_accuracy': []}\n",
    "\n",
    "\n",
    "    for epoch in range(epochs):  # Loop over the number of epochs\n",
    "        model.train()  # Set model to training mode\n",
    "        total_loss, correct = 0, 0  # Initialize total loss and correct predictions\n",
    "\n",
    "        # Training loop\n",
    "        for inputs, labels in train_loader:\n",
    "            inputs, labels = inputs.to(device), labels.to(device)\n",
    "            model = model.to(device)\n",
    "            optimizer.zero_grad()  # Reset gradients before each batch\n",
    "            outputs = model(inputs).squeeze()  # Forward pass\n",
    "            loss = criterion(outputs, labels)  # Compute loss\n",
    "            loss.backward()  # Backpropagation (compute gradients)\n",
    "            optimizer.step()  # Update model parameters\n",
    "\n",
    "            total_loss += loss.item()  # Accumulate batch loss\n",
    "\n",
    "            correct += ((outputs > 0.5) == labels).sum().item()  # Count correct predictions\n",
    "\n",
    "\n",
    "        # Compute average loss and accuracy for training\n",
    "        train_loss = total_loss / len(train_loader)\n",
    "        train_acc = correct / len(train_loader.dataset)\n",
    "\n",
    "\n",
    "        # Validation phase (without gradient computation)\n",
    "        model.eval()  # Set model to evaluation mode\n",
    "        val_loss, val_correct = 0, 0\n",
    "        with torch.no_grad():  # No need to compute gradients during validation\n",
    "            for inputs, labels in val_loader:\n",
    "                inputs, labels = inputs.to(device), labels.to(device)\n",
    "                model = model.to(device)\n",
    "                outputs = model(inputs).squeeze()  # Forward pass\n",
    "                loss = criterion(outputs, labels)  # Compute loss\n",
    "                val_loss += loss.item()  # Accumulate validation loss\n",
    "                \n",
    "                val_correct += ((outputs > 0.5) == labels).sum().item()  # Count correct predictions\n",
    "\n",
    "        # Compute average loss and accuracy for validation\n",
    "        val_loss /= len(val_loader)\n",
    "        val_acc = val_correct / len(val_loader.dataset)\n",
    "\n",
    "        # Store metrics in history dictionary\n",
    "        history['loss'].append(train_loss)\n",
    "        history['val_loss'].append(val_loss)\n",
    "        history['accuracy'].append(train_acc)\n",
    "        history['val_accuracy'].append(val_acc)\n",
    "\n",
    "        # Print training progress\n",
    "        print(f\"Epoch [{epoch+1}/{epochs}], Loss: {train_loss:.4f}, Acc: {train_acc:.4f}, \"\n",
    "              f\"Val Loss: {val_loss:.4f}, Val Acc: {val_acc:.4f}\")\n",
    "\n",
    "    return history  # Return training history\n",
    "\n",
    "history = train(model,\n",
    "                train_loader=train_loader,\n",
    "                val_loader=val_loader,\n",
    "                criterion=criterion,\n",
    "                optimizer=optimizer,\n",
    "                epochs=60, \n",
    "                device=device)"
   ]
  },
  {
   "cell_type": "code",
   "execution_count": 20,
   "metadata": {
    "colab": {
     "base_uri": "https://localhost:8080/",
     "height": 392
    },
    "executionInfo": {
     "elapsed": 456,
     "status": "ok",
     "timestamp": 1751318463940,
     "user": {
      "displayName": "Albert ROMANO",
      "userId": "04721031700914221121"
     },
     "user_tz": -120
    },
    "id": "bh6kR1eeciAp",
    "outputId": "db4c97e4-e2e7-47bb-9c36-1b5581c56c0d"
   },
   "outputs": [
    {
     "data": {
      "image/png": "[encoded data removed]",
      "text/plain": [
       "<Figure size 1200x500 with 2 Axes>"
      ]
     },
     "metadata": {},
     "output_type": "display_data"
    }
   ],
   "source": [
    "# Plotting evolution of loss & accuracy during training\n",
    "\n",
    "epochs = range(1, len(history['loss'])+1)\n",
    "\n",
    "plt.figure(figsize=(12, 5))\n",
    "\n",
    "# Courbe de loss\n",
    "plt.subplot(1, 2, 1)\n",
    "plt.plot(epochs, history['loss'], label='Train Loss')\n",
    "plt.plot(epochs, history['val_loss'], label='Val Loss')\n",
    "plt.xlabel('Epoch')\n",
    "plt.ylabel('Loss')\n",
    "plt.title('Loss over Epochs')\n",
    "plt.legend()\n",
    "\n",
    "# Courbe d'accuracy\n",
    "plt.subplot(1, 2, 2)\n",
    "plt.plot(epochs, history['accuracy'], label='Train Acc')\n",
    "plt.plot(epochs, history['val_accuracy'], label='Val Acc')\n",
    "plt.xlabel('Epoch')\n",
    "plt.ylabel('Accuracy')\n",
    "plt.title('Accuracy over Epochs')\n",
    "plt.legend()\n",
    "\n",
    "plt.tight_layout()\n",
    "plt.show()\n"
   ]
  },
  {
   "cell_type": "markdown",
   "metadata": {
    "id": "AVDxiyaUciAp"
   },
   "source": [
    "## 5.4 Error analysis"
   ]
  },
  {
   "cell_type": "markdown",
   "metadata": {},
   "source": [
    "### Worst predictions"
   ]
  },
  {
   "cell_type": "code",
   "execution_count": 21,
   "metadata": {},
   "outputs": [],
   "source": [
    "# Function to evaluate the model and get worst predictions\n",
    "def evaluate_worst_predictions(model, dataloader, tokenizer, device=device):\n",
    "    model.eval()  # Set model to evaluation mode\n",
    "    \n",
    "    all_predictions = []\n",
    "    all_labels = []\n",
    "    all_errors = []\n",
    "    all_inputs = []\n",
    "\n",
    "    with torch.no_grad():  # No gradients needed during evaluation\n",
    "        for batch in dataloader:\n",
    "            inputs, labels = batch  # Assuming (inputs, labels) in DataLoader\n",
    "            inputs, labels = inputs.to(device), labels.to(device)\n",
    "\n",
    "            # Forward pass\n",
    "            model.to(device)\n",
    "            outputs = model(inputs)\n",
    "\n",
    "            # Convert outputs to predicted class (for classification)\n",
    "            if outputs.shape[-1] > 1:  # Multi-class classification\n",
    "                preds = torch.argmax(outputs, dim=1)\n",
    "                errors = (preds != labels).float()  # Misclassified observations\n",
    "            else:  # Regression\n",
    "                preds = outputs.squeeze()\n",
    "                errors = torch.abs(preds - labels)  # Absolute error\n",
    "\n",
    "            # Save results\n",
    "            all_predictions.extend(preds.cpu().numpy())\n",
    "            all_labels.extend(labels.cpu().numpy())\n",
    "            all_errors.extend(errors.cpu().numpy())\n",
    "            all_inputs.extend(inputs.cpu().numpy())\n",
    "\n",
    "    # Convert to DataFrame for analysis\n",
    "    df_results = pd.DataFrame({\n",
    "        \"True_Label\": all_labels,\n",
    "        \"Predicted\": all_predictions,\n",
    "        \"Error\": all_errors,\n",
    "        \"Inputs\": all_inputs,\n",
    "        \"Text\" : [tokenizer.decode(input) for input in all_inputs]\n",
    "    })\n",
    "\n",
    "    # Sort by highest error (worst predictions)\n",
    "    df_results_sorted = df_results.sort_values(by=\"Error\", ascending=False)\n",
    "\n",
    "    return df_results_sorted\n",
    "\n",
    "# Example usage:\n",
    "worst_predictions_val = evaluate_worst_predictions(model, val_loader, tokenizer, device=device)\n",
    "worst_predictions_train = evaluate_worst_predictions(model, train_loader, tokenizer, device=device)\n"
   ]
  },
  {
   "cell_type": "code",
   "execution_count": 22,
   "metadata": {
    "colab": {
     "base_uri": "https://localhost:8080/",
     "height": 537
    },
    "executionInfo": {
     "elapsed": 43,
     "status": "ok",
     "timestamp": 1751318464143,
     "user": {
      "displayName": "Albert ROMANO",
      "userId": "04721031700914221121"
     },
     "user_tz": -120
    },
    "id": "3GkHUmrEciAq",
    "outputId": "0feb4eb9-62f6-4513-fffe-a2700459ee2f"
   },
   "outputs": [
    {
     "data": {
      "text/html": [
       "<div>\n",
       "<style scoped>\n",
       "    .dataframe tbody tr th:only-of-type {\n",
       "        vertical-align: middle;\n",
       "    }\n",
       "\n",
       "    .dataframe tbody tr th {\n",
       "        vertical-align: top;\n",
       "    }\n",
       "\n",
       "    .dataframe thead th {\n",
       "        text-align: right;\n",
       "    }\n",
       "</style>\n",
       "<table border=\"1\" class=\"dataframe\">\n",
       "  <thead>\n",
       "    <tr style=\"text-align: right;\">\n",
       "      <th></th>\n",
       "      <th>True_Label</th>\n",
       "      <th>Predicted</th>\n",
       "      <th>Error</th>\n",
       "      <th>Inputs</th>\n",
       "      <th>Text</th>\n",
       "    </tr>\n",
       "  </thead>\n",
       "  <tbody>\n",
       "    <tr>\n",
       "      <th>640</th>\n",
       "      <td>1.0</td>\n",
       "      <td>0.064870</td>\n",
       "      <td>0.935130</td>\n",
       "      <td>[5519, 499, 3596, 5406, 430, 994, 499, 2351, 1...</td>\n",
       "      <td>Do you ever notice that when you're driving, a...</td>\n",
       "    </tr>\n",
       "    <tr>\n",
       "      <th>2506</th>\n",
       "      <td>1.0</td>\n",
       "      <td>0.116073</td>\n",
       "      <td>0.883927</td>\n",
       "      <td>[29089, 499, 1093, 311, 1518, 856, 20572, 2206...</td>\n",
       "      <td>Would you like to see my XXX pics they are so ...</td>\n",
       "    </tr>\n",
       "    <tr>\n",
       "      <th>3668</th>\n",
       "      <td>1.0</td>\n",
       "      <td>0.123619</td>\n",
       "      <td>0.876381</td>\n",
       "      <td>[19701, 358, 13942, 701, 1650, 1095, 596, 3137...</td>\n",
       "      <td>Sorry I missed your call let's talk when you h...</td>\n",
       "    </tr>\n",
       "    <tr>\n",
       "      <th>4436</th>\n",
       "      <td>1.0</td>\n",
       "      <td>0.142348</td>\n",
       "      <td>0.857652</td>\n",
       "      <td>[5519, 499, 13383, 430, 304, 922, 220, 1272, 1...</td>\n",
       "      <td>Do you realize that in about 40 years, we'll h...</td>\n",
       "    </tr>\n",
       "    <tr>\n",
       "      <th>506</th>\n",
       "      <td>1.0</td>\n",
       "      <td>0.171248</td>\n",
       "      <td>0.828752</td>\n",
       "      <td>[43, 40777, 706, 2646, 1027, 420, 1790, 2523, ...</td>\n",
       "      <td>LIFE has never been this much fun and great un...</td>\n",
       "    </tr>\n",
       "    <tr>\n",
       "      <th>3291</th>\n",
       "      <td>1.0</td>\n",
       "      <td>0.270130</td>\n",
       "      <td>0.729870</td>\n",
       "      <td>[25821, 602, 617, 2834, 3243, 287, 1396, 220, ...</td>\n",
       "      <td>Money i have won wining number 946 wot do i do...</td>\n",
       "    </tr>\n",
       "    <tr>\n",
       "      <th>4423</th>\n",
       "      <td>1.0</td>\n",
       "      <td>0.471344</td>\n",
       "      <td>0.528656</td>\n",
       "      <td>[4438, 2586, 433, 5097, 779, 2697, 892, 369, 2...</td>\n",
       "      <td>How come it takes so little time for a child w...</td>\n",
       "    </tr>\n",
       "    <tr>\n",
       "      <th>2241</th>\n",
       "      <td>1.0</td>\n",
       "      <td>0.483943</td>\n",
       "      <td>0.516057</td>\n",
       "      <td>[9906, 13, 1226, 1205, 1063, 1153, 71, 20229, ...</td>\n",
       "      <td>Hello. We need some posh birds and chaps to us...</td>\n",
       "    </tr>\n",
       "    <tr>\n",
       "      <th>1855</th>\n",
       "      <td>1.0</td>\n",
       "      <td>0.553327</td>\n",
       "      <td>0.446673</td>\n",
       "      <td>[33092, 5513, 0, 10289, 8216, 27306, 23130, 11...</td>\n",
       "      <td>Latest News! Police station toilet stolen, cop...</td>\n",
       "    </tr>\n",
       "    <tr>\n",
       "      <th>870</th>\n",
       "      <td>1.0</td>\n",
       "      <td>0.558536</td>\n",
       "      <td>0.441464</td>\n",
       "      <td>[12928, 59029, 10789, 220, 24344, 5833, 0, 0, ...</td>\n",
       "      <td>ringtoneking 84484!!!!!!!!!!!!!!!!!!!!!!!!!!!!...</td>\n",
       "    </tr>\n",
       "  </tbody>\n",
       "</table>\n",
       "</div>"
      ],
      "text/plain": [
       "      True_Label  Predicted     Error  \\\n",
       "640          1.0   0.064870  0.935130   \n",
       "2506         1.0   0.116073  0.883927   \n",
       "3668         1.0   0.123619  0.876381   \n",
       "4436         1.0   0.142348  0.857652   \n",
       "506          1.0   0.171248  0.828752   \n",
       "3291         1.0   0.270130  0.729870   \n",
       "4423         1.0   0.471344  0.528656   \n",
       "2241         1.0   0.483943  0.516057   \n",
       "1855         1.0   0.553327  0.446673   \n",
       "870          1.0   0.558536  0.441464   \n",
       "\n",
       "                                                 Inputs  \\\n",
       "640   [5519, 499, 3596, 5406, 430, 994, 499, 2351, 1...   \n",
       "2506  [29089, 499, 1093, 311, 1518, 856, 20572, 2206...   \n",
       "3668  [19701, 358, 13942, 701, 1650, 1095, 596, 3137...   \n",
       "4436  [5519, 499, 13383, 430, 304, 922, 220, 1272, 1...   \n",
       "506   [43, 40777, 706, 2646, 1027, 420, 1790, 2523, ...   \n",
       "3291  [25821, 602, 617, 2834, 3243, 287, 1396, 220, ...   \n",
       "4423  [4438, 2586, 433, 5097, 779, 2697, 892, 369, 2...   \n",
       "2241  [9906, 13, 1226, 1205, 1063, 1153, 71, 20229, ...   \n",
       "1855  [33092, 5513, 0, 10289, 8216, 27306, 23130, 11...   \n",
       "870   [12928, 59029, 10789, 220, 24344, 5833, 0, 0, ...   \n",
       "\n",
       "                                                   Text  \n",
       "640   Do you ever notice that when you're driving, a...  \n",
       "2506  Would you like to see my XXX pics they are so ...  \n",
       "3668  Sorry I missed your call let's talk when you h...  \n",
       "4436  Do you realize that in about 40 years, we'll h...  \n",
       "506   LIFE has never been this much fun and great un...  \n",
       "3291  Money i have won wining number 946 wot do i do...  \n",
       "4423  How come it takes so little time for a child w...  \n",
       "2241  Hello. We need some posh birds and chaps to us...  \n",
       "1855  Latest News! Police station toilet stolen, cop...  \n",
       "870   ringtoneking 84484!!!!!!!!!!!!!!!!!!!!!!!!!!!!...  "
      ]
     },
     "execution_count": 22,
     "metadata": {},
     "output_type": "execute_result"
    }
   ],
   "source": [
    "worst_predictions_train.head(10)"
   ]
  },
  {
   "cell_type": "code",
   "execution_count": 23,
   "metadata": {
    "colab": {
     "base_uri": "https://localhost:8080/",
     "height": 537
    },
    "executionInfo": {
     "elapsed": 18,
     "status": "ok",
     "timestamp": 1751318464162,
     "user": {
      "displayName": "Albert ROMANO",
      "userId": "04721031700914221121"
     },
     "user_tz": -120
    },
    "id": "0tPU2tUuciAq",
    "outputId": "eb49234d-1deb-42da-c902-3128b73a4a1b"
   },
   "outputs": [
    {
     "data": {
      "text/html": [
       "<div>\n",
       "<style scoped>\n",
       "    .dataframe tbody tr th:only-of-type {\n",
       "        vertical-align: middle;\n",
       "    }\n",
       "\n",
       "    .dataframe tbody tr th {\n",
       "        vertical-align: top;\n",
       "    }\n",
       "\n",
       "    .dataframe thead th {\n",
       "        text-align: right;\n",
       "    }\n",
       "</style>\n",
       "<table border=\"1\" class=\"dataframe\">\n",
       "  <thead>\n",
       "    <tr style=\"text-align: right;\">\n",
       "      <th></th>\n",
       "      <th>True_Label</th>\n",
       "      <th>Predicted</th>\n",
       "      <th>Error</th>\n",
       "      <th>Inputs</th>\n",
       "      <th>Text</th>\n",
       "    </tr>\n",
       "  </thead>\n",
       "  <tbody>\n",
       "    <tr>\n",
       "      <th>242</th>\n",
       "      <td>1.0</td>\n",
       "      <td>0.000056</td>\n",
       "      <td>0.999944</td>\n",
       "      <td>[9906, 76745, 1268, 527, 499, 3432, 30, 358, 1...</td>\n",
       "      <td>Hello darling how are you today? I would love ...</td>\n",
       "    </tr>\n",
       "    <tr>\n",
       "      <th>205</th>\n",
       "      <td>1.0</td>\n",
       "      <td>0.000167</td>\n",
       "      <td>0.999833</td>\n",
       "      <td>[10149, 577, 3449, 4433, 8063, 8427, 5246, 30,...</td>\n",
       "      <td>Will u meet ur dream partner soon? Is ur caree...</td>\n",
       "    </tr>\n",
       "    <tr>\n",
       "      <th>281</th>\n",
       "      <td>1.0</td>\n",
       "      <td>0.005426</td>\n",
       "      <td>0.994574</td>\n",
       "      <td>[13347, 420, 374, 29793, 11, 584, 690, 387, 11...</td>\n",
       "      <td>Hi this is Amy, we will be sending you a free ...</td>\n",
       "    </tr>\n",
       "    <tr>\n",
       "      <th>200</th>\n",
       "      <td>1.0</td>\n",
       "      <td>0.006351</td>\n",
       "      <td>0.993649</td>\n",
       "      <td>[7131, 499, 6865, 922, 279, 502, 1144, 12792, ...</td>\n",
       "      <td>Did you hear about the new \\Divorce Barbie\\\"? ...</td>\n",
       "    </tr>\n",
       "    <tr>\n",
       "      <th>539</th>\n",
       "      <td>1.0</td>\n",
       "      <td>0.008681</td>\n",
       "      <td>0.991319</td>\n",
       "      <td>[46830, 889, 1097, 358, 30, 2028, 374, 279, 11...</td>\n",
       "      <td>Guess who am I?This is the first time I create...</td>\n",
       "    </tr>\n",
       "    <tr>\n",
       "      <th>933</th>\n",
       "      <td>1.0</td>\n",
       "      <td>0.008909</td>\n",
       "      <td>0.991091</td>\n",
       "      <td>[644, 578, 85733, 14270, 6004, 304, 5887, 220,...</td>\n",
       "      <td>In The Simpsons Movie released in July 2007 na...</td>\n",
       "    </tr>\n",
       "    <tr>\n",
       "      <th>262</th>\n",
       "      <td>1.0</td>\n",
       "      <td>0.109246</td>\n",
       "      <td>0.890754</td>\n",
       "      <td>[2028, 1984, 374, 7263, 311, 499, 555, 19722, ...</td>\n",
       "      <td>This message is brought to you by GMW Ltd. and...</td>\n",
       "    </tr>\n",
       "    <tr>\n",
       "      <th>520</th>\n",
       "      <td>1.0</td>\n",
       "      <td>0.186520</td>\n",
       "      <td>0.813480</td>\n",
       "      <td>[2675, 690, 387, 12588, 420, 2046, 596, 37749,...</td>\n",
       "      <td>You will be receiving this week's Triple Echo ...</td>\n",
       "    </tr>\n",
       "    <tr>\n",
       "      <th>1019</th>\n",
       "      <td>1.0</td>\n",
       "      <td>0.207322</td>\n",
       "      <td>0.792678</td>\n",
       "      <td>[51240, 27520, 7493, 323, 86109, 7416, 8748, 3...</td>\n",
       "      <td>Filthy stories and GIRLS waiting for your!!!!!...</td>\n",
       "    </tr>\n",
       "    <tr>\n",
       "      <th>815</th>\n",
       "      <td>1.0</td>\n",
       "      <td>0.227724</td>\n",
       "      <td>0.772276</td>\n",
       "      <td>[36412, 291, 1650, 5225, 13, 4314, 5219, 2663,...</td>\n",
       "      <td>Missed call alert. These numbers called but le...</td>\n",
       "    </tr>\n",
       "  </tbody>\n",
       "</table>\n",
       "</div>"
      ],
      "text/plain": [
       "      True_Label  Predicted     Error  \\\n",
       "242          1.0   0.000056  0.999944   \n",
       "205          1.0   0.000167  0.999833   \n",
       "281          1.0   0.005426  0.994574   \n",
       "200          1.0   0.006351  0.993649   \n",
       "539          1.0   0.008681  0.991319   \n",
       "933          1.0   0.008909  0.991091   \n",
       "262          1.0   0.109246  0.890754   \n",
       "520          1.0   0.186520  0.813480   \n",
       "1019         1.0   0.207322  0.792678   \n",
       "815          1.0   0.227724  0.772276   \n",
       "\n",
       "                                                 Inputs  \\\n",
       "242   [9906, 76745, 1268, 527, 499, 3432, 30, 358, 1...   \n",
       "205   [10149, 577, 3449, 4433, 8063, 8427, 5246, 30,...   \n",
       "281   [13347, 420, 374, 29793, 11, 584, 690, 387, 11...   \n",
       "200   [7131, 499, 6865, 922, 279, 502, 1144, 12792, ...   \n",
       "539   [46830, 889, 1097, 358, 30, 2028, 374, 279, 11...   \n",
       "933   [644, 578, 85733, 14270, 6004, 304, 5887, 220,...   \n",
       "262   [2028, 1984, 374, 7263, 311, 499, 555, 19722, ...   \n",
       "520   [2675, 690, 387, 12588, 420, 2046, 596, 37749,...   \n",
       "1019  [51240, 27520, 7493, 323, 86109, 7416, 8748, 3...   \n",
       "815   [36412, 291, 1650, 5225, 13, 4314, 5219, 2663,...   \n",
       "\n",
       "                                                   Text  \n",
       "242   Hello darling how are you today? I would love ...  \n",
       "205   Will u meet ur dream partner soon? Is ur caree...  \n",
       "281   Hi this is Amy, we will be sending you a free ...  \n",
       "200   Did you hear about the new \\Divorce Barbie\\\"? ...  \n",
       "539   Guess who am I?This is the first time I create...  \n",
       "933   In The Simpsons Movie released in July 2007 na...  \n",
       "262   This message is brought to you by GMW Ltd. and...  \n",
       "520   You will be receiving this week's Triple Echo ...  \n",
       "1019  Filthy stories and GIRLS waiting for your!!!!!...  \n",
       "815   Missed call alert. These numbers called but le...  "
      ]
     },
     "execution_count": 23,
     "metadata": {},
     "output_type": "execute_result"
    }
   ],
   "source": [
    "worst_predictions_val.head(10)"
   ]
  },
  {
   "cell_type": "markdown",
   "metadata": {
    "id": "RV2YOtBBciAq"
   },
   "source": [
    "### Classification Reports & confusion matrix"
   ]
  },
  {
   "cell_type": "code",
   "execution_count": 24,
   "metadata": {
    "colab": {
     "base_uri": "https://localhost:8080/"
    },
    "executionInfo": {
     "elapsed": 27,
     "status": "ok",
     "timestamp": 1751318464190,
     "user": {
      "displayName": "Albert ROMANO",
      "userId": "04721031700914221121"
     },
     "user_tz": -120
    },
    "id": "REGcWF5cciAq",
    "outputId": "8dc4d9d5-ec23-46a6-92b0-0dbe910f7996"
   },
   "outputs": [
    {
     "name": "stdout",
     "output_type": "stream",
     "text": [
      "Train set classification report :\n",
      "              precision    recall  f1-score   support\n",
      "\n",
      "         0.0       1.00      1.00      1.00      3867\n",
      "         1.0       1.00      0.99      0.99       590\n",
      "\n",
      "    accuracy                           1.00      4457\n",
      "   macro avg       1.00      0.99      1.00      4457\n",
      "weighted avg       1.00      1.00      1.00      4457\n",
      "\n"
     ]
    }
   ],
   "source": [
    "# Train set\n",
    "true_labels = worst_predictions_train['True_Label']\n",
    "predicted_labels = np.round(worst_predictions_train['Predicted'])\n",
    "print(\"Train set classification report :\")\n",
    "print(classification_report(true_labels, predicted_labels))"
   ]
  },
  {
   "cell_type": "code",
   "execution_count": 25,
   "metadata": {
    "colab": {
     "base_uri": "https://localhost:8080/",
     "height": 542
    },
    "executionInfo": {
     "elapsed": 2940,
     "status": "ok",
     "timestamp": 1751318467131,
     "user": {
      "displayName": "Albert ROMANO",
      "userId": "04721031700914221121"
     },
     "user_tz": -120
    },
    "id": "zCyx5i3IciAq",
    "outputId": "4c9f3f98-446a-4d66-8875-6e48cfc99869"
   },
   "outputs": [
    {
     "data": {
      "application/vnd.plotly.v1+json": {
       "config": {
        "plotlyServerURL": "https://plot.ly"
       },
       "data": [
        {
         "coloraxis": "coloraxis",
         "hovertemplate": "x: %{x}<br>y: %{y}<br>color: %{z}<extra></extra>",
         "name": "0",
         "texttemplate": "%{z}",
         "type": "heatmap",
         "x": [
          "pred_HAM",
          "pred_SPAM"
         ],
         "xaxis": "x",
         "y": [
          "true_HAM",
          "true_SPAM"
         ],
         "yaxis": "y",
         "z": {
          "bdata": "Gw8IAAAARgI=",
          "dtype": "i2",
          "shape": "2, 2"
         }
        }
       ],
       "layout": {
        "coloraxis": {
         "colorscale": [
          [
           0,
           "#0d0887"
          ],
          [
           0.1111111111111111,
           "#46039f"
          ],
          [
           0.2222222222222222,
           "#7201a8"
          ],
          [
           0.3333333333333333,
           "#9c179e"
          ],
          [
           0.4444444444444444,
           "#bd3786"
          ],
          [
           0.5555555555555556,
           "#d8576b"
          ],
          [
           0.6666666666666666,
           "#ed7953"
          ],
          [
           0.7777777777777778,
           "#fb9f3a"
          ],
          [
           0.8888888888888888,
           "#fdca26"
          ],
          [
           1,
           "#f0f921"
          ]
         ]
        },
        "template": {
         "data": {
          "bar": [
           {
            "error_x": {
             "color": "#2a3f5f"
            },
            "error_y": {
             "color": "#2a3f5f"
            },
            "marker": {
             "line": {
              "color": "#E5ECF6",
              "width": 0.5
             },
             "pattern": {
              "fillmode": "overlay",
              "size": 10,
              "solidity": 0.2
             }
            },
            "type": "bar"
           }
          ],
          "barpolar": [
           {
            "marker": {
             "line": {
              "color": "#E5ECF6",
              "width": 0.5
             },
             "pattern": {
              "fillmode": "overlay",
              "size": 10,
              "solidity": 0.2
             }
            },
            "type": "barpolar"
           }
          ],
          "carpet": [
           {
            "aaxis": {
             "endlinecolor": "#2a3f5f",
             "gridcolor": "white",
             "linecolor": "white",
             "minorgridcolor": "white",
             "startlinecolor": "#2a3f5f"
            },
            "baxis": {
             "endlinecolor": "#2a3f5f",
             "gridcolor": "white",
             "linecolor": "white",
             "minorgridcolor": "white",
             "startlinecolor": "#2a3f5f"
            },
            "type": "carpet"
           }
          ],
          "choropleth": [
           {
            "colorbar": {
             "outlinewidth": 0,
             "ticks": ""
            },
            "type": "choropleth"
           }
          ],
          "contour": [
           {
            "colorbar": {
             "outlinewidth": 0,
             "ticks": ""
            },
            "colorscale": [
             [
              0,
              "#0d0887"
             ],
             [
              0.1111111111111111,
              "#46039f"
             ],
             [
              0.2222222222222222,
              "#7201a8"
             ],
             [
              0.3333333333333333,
              "#9c179e"
             ],
             [
              0.4444444444444444,
              "#bd3786"
             ],
             [
              0.5555555555555556,
              "#d8576b"
             ],
             [
              0.6666666666666666,
              "#ed7953"
             ],
             [
              0.7777777777777778,
              "#fb9f3a"
             ],
             [
              0.8888888888888888,
              "#fdca26"
             ],
             [
              1,
              "#f0f921"
             ]
            ],
            "type": "contour"
           }
          ],
          "contourcarpet": [
           {
            "colorbar": {
             "outlinewidth": 0,
             "ticks": ""
            },
            "type": "contourcarpet"
           }
          ],
          "heatmap": [
           {
            "colorbar": {
             "outlinewidth": 0,
             "ticks": ""
            },
            "colorscale": [
             [
              0,
              "#0d0887"
             ],
             [
              0.1111111111111111,
              "#46039f"
             ],
             [
              0.2222222222222222,
              "#7201a8"
             ],
             [
              0.3333333333333333,
              "#9c179e"
             ],
             [
              0.4444444444444444,
              "#bd3786"
             ],
             [
              0.5555555555555556,
              "#d8576b"
             ],
             [
              0.6666666666666666,
              "#ed7953"
             ],
             [
              0.7777777777777778,
              "#fb9f3a"
             ],
             [
              0.8888888888888888,
              "#fdca26"
             ],
             [
              1,
              "#f0f921"
             ]
            ],
            "type": "heatmap"
           }
          ],
          "histogram": [
           {
            "marker": {
             "pattern": {
              "fillmode": "overlay",
              "size": 10,
              "solidity": 0.2
             }
            },
            "type": "histogram"
           }
          ],
          "histogram2d": [
           {
            "colorbar": {
             "outlinewidth": 0,
             "ticks": ""
            },
            "colorscale": [
             [
              0,
              "#0d0887"
             ],
             [
              0.1111111111111111,
              "#46039f"
             ],
             [
              0.2222222222222222,
              "#7201a8"
             ],
             [
              0.3333333333333333,
              "#9c179e"
             ],
             [
              0.4444444444444444,
              "#bd3786"
             ],
             [
              0.5555555555555556,
              "#d8576b"
             ],
             [
              0.6666666666666666,
              "#ed7953"
             ],
             [
              0.7777777777777778,
              "#fb9f3a"
             ],
             [
              0.8888888888888888,
              "#fdca26"
             ],
             [
              1,
              "#f0f921"
             ]
            ],
            "type": "histogram2d"
           }
          ],
          "histogram2dcontour": [
           {
            "colorbar": {
             "outlinewidth": 0,
             "ticks": ""
            },
            "colorscale": [
             [
              0,
              "#0d0887"
             ],
             [
              0.1111111111111111,
              "#46039f"
             ],
             [
              0.2222222222222222,
              "#7201a8"
             ],
             [
              0.3333333333333333,
              "#9c179e"
             ],
             [
              0.4444444444444444,
              "#bd3786"
             ],
             [
              0.5555555555555556,
              "#d8576b"
             ],
             [
              0.6666666666666666,
              "#ed7953"
             ],
             [
              0.7777777777777778,
              "#fb9f3a"
             ],
             [
              0.8888888888888888,
              "#fdca26"
             ],
             [
              1,
              "#f0f921"
             ]
            ],
            "type": "histogram2dcontour"
           }
          ],
          "mesh3d": [
           {
            "colorbar": {
             "outlinewidth": 0,
             "ticks": ""
            },
            "type": "mesh3d"
           }
          ],
          "parcoords": [
           {
            "line": {
             "colorbar": {
              "outlinewidth": 0,
              "ticks": ""
             }
            },
            "type": "parcoords"
           }
          ],
          "pie": [
           {
            "automargin": true,
            "type": "pie"
           }
          ],
          "scatter": [
           {
            "fillpattern": {
             "fillmode": "overlay",
             "size": 10,
             "solidity": 0.2
            },
            "type": "scatter"
           }
          ],
          "scatter3d": [
           {
            "line": {
             "colorbar": {
              "outlinewidth": 0,
              "ticks": ""
             }
            },
            "marker": {
             "colorbar": {
              "outlinewidth": 0,
              "ticks": ""
             }
            },
            "type": "scatter3d"
           }
          ],
          "scattercarpet": [
           {
            "marker": {
             "colorbar": {
              "outlinewidth": 0,
              "ticks": ""
             }
            },
            "type": "scattercarpet"
           }
          ],
          "scattergeo": [
           {
            "marker": {
             "colorbar": {
              "outlinewidth": 0,
              "ticks": ""
             }
            },
            "type": "scattergeo"
           }
          ],
          "scattergl": [
           {
            "marker": {
             "colorbar": {
              "outlinewidth": 0,
              "ticks": ""
             }
            },
            "type": "scattergl"
           }
          ],
          "scattermap": [
           {
            "marker": {
             "colorbar": {
              "outlinewidth": 0,
              "ticks": ""
             }
            },
            "type": "scattermap"
           }
          ],
          "scattermapbox": [
           {
            "marker": {
             "colorbar": {
              "outlinewidth": 0,
              "ticks": ""
             }
            },
            "type": "scattermapbox"
           }
          ],
          "scatterpolar": [
           {
            "marker": {
             "colorbar": {
              "outlinewidth": 0,
              "ticks": ""
             }
            },
            "type": "scatterpolar"
           }
          ],
          "scatterpolargl": [
           {
            "marker": {
             "colorbar": {
              "outlinewidth": 0,
              "ticks": ""
             }
            },
            "type": "scatterpolargl"
           }
          ],
          "scatterternary": [
           {
            "marker": {
             "colorbar": {
              "outlinewidth": 0,
              "ticks": ""
             }
            },
            "type": "scatterternary"
           }
          ],
          "surface": [
           {
            "colorbar": {
             "outlinewidth": 0,
             "ticks": ""
            },
            "colorscale": [
             [
              0,
              "#0d0887"
             ],
             [
              0.1111111111111111,
              "#46039f"
             ],
             [
              0.2222222222222222,
              "#7201a8"
             ],
             [
              0.3333333333333333,
              "#9c179e"
             ],
             [
              0.4444444444444444,
              "#bd3786"
             ],
             [
              0.5555555555555556,
              "#d8576b"
             ],
             [
              0.6666666666666666,
              "#ed7953"
             ],
             [
              0.7777777777777778,
              "#fb9f3a"
             ],
             [
              0.8888888888888888,
              "#fdca26"
             ],
             [
              1,
              "#f0f921"
             ]
            ],
            "type": "surface"
           }
          ],
          "table": [
           {
            "cells": {
             "fill": {
              "color": "#EBF0F8"
             },
             "line": {
              "color": "white"
             }
            },
            "header": {
             "fill": {
              "color": "#C8D4E3"
             },
             "line": {
              "color": "white"
             }
            },
            "type": "table"
           }
          ]
         },
         "layout": {
          "annotationdefaults": {
           "arrowcolor": "#2a3f5f",
           "arrowhead": 0,
           "arrowwidth": 1
          },
          "autotypenumbers": "strict",
          "coloraxis": {
           "colorbar": {
            "outlinewidth": 0,
            "ticks": ""
           }
          },
          "colorscale": {
           "diverging": [
            [
             0,
             "#8e0152"
            ],
            [
             0.1,
             "#c51b7d"
            ],
            [
             0.2,
             "#de77ae"
            ],
            [
             0.3,
             "#f1b6da"
            ],
            [
             0.4,
             "#fde0ef"
            ],
            [
             0.5,
             "#f7f7f7"
            ],
            [
             0.6,
             "#e6f5d0"
            ],
            [
             0.7,
             "#b8e186"
            ],
            [
             0.8,
             "#7fbc41"
            ],
            [
             0.9,
             "#4d9221"
            ],
            [
             1,
             "#276419"
            ]
           ],
           "sequential": [
            [
             0,
             "#0d0887"
            ],
            [
             0.1111111111111111,
             "#46039f"
            ],
            [
             0.2222222222222222,
             "#7201a8"
            ],
            [
             0.3333333333333333,
             "#9c179e"
            ],
            [
             0.4444444444444444,
             "#bd3786"
            ],
            [
             0.5555555555555556,
             "#d8576b"
            ],
            [
             0.6666666666666666,
             "#ed7953"
            ],
            [
             0.7777777777777778,
             "#fb9f3a"
            ],
            [
             0.8888888888888888,
             "#fdca26"
            ],
            [
             1,
             "#f0f921"
            ]
           ],
           "sequentialminus": [
            [
             0,
             "#0d0887"
            ],
            [
             0.1111111111111111,
             "#46039f"
            ],
            [
             0.2222222222222222,
             "#7201a8"
            ],
            [
             0.3333333333333333,
             "#9c179e"
            ],
            [
             0.4444444444444444,
             "#bd3786"
            ],
            [
             0.5555555555555556,
             "#d8576b"
            ],
            [
             0.6666666666666666,
             "#ed7953"
            ],
            [
             0.7777777777777778,
             "#fb9f3a"
            ],
            [
             0.8888888888888888,
             "#fdca26"
            ],
            [
             1,
             "#f0f921"
            ]
           ]
          },
          "colorway": [
           "#636efa",
           "#EF553B",
           "#00cc96",
           "#ab63fa",
           "#FFA15A",
           "#19d3f3",
           "#FF6692",
           "#B6E880",
           "#FF97FF",
           "#FECB52"
          ],
          "font": {
           "color": "#2a3f5f"
          },
          "geo": {
           "bgcolor": "white",
           "lakecolor": "white",
           "landcolor": "#E5ECF6",
           "showlakes": true,
           "showland": true,
           "subunitcolor": "white"
          },
          "hoverlabel": {
           "align": "left"
          },
          "hovermode": "closest",
          "mapbox": {
           "style": "light"
          },
          "paper_bgcolor": "white",
          "plot_bgcolor": "#E5ECF6",
          "polar": {
           "angularaxis": {
            "gridcolor": "white",
            "linecolor": "white",
            "ticks": ""
           },
           "bgcolor": "#E5ECF6",
           "radialaxis": {
            "gridcolor": "white",
            "linecolor": "white",
            "ticks": ""
           }
          },
          "scene": {
           "xaxis": {
            "backgroundcolor": "#E5ECF6",
            "gridcolor": "white",
            "gridwidth": 2,
            "linecolor": "white",
            "showbackground": true,
            "ticks": "",
            "zerolinecolor": "white"
           },
           "yaxis": {
            "backgroundcolor": "#E5ECF6",
            "gridcolor": "white",
            "gridwidth": 2,
            "linecolor": "white",
            "showbackground": true,
            "ticks": "",
            "zerolinecolor": "white"
           },
           "zaxis": {
            "backgroundcolor": "#E5ECF6",
            "gridcolor": "white",
            "gridwidth": 2,
            "linecolor": "white",
            "showbackground": true,
            "ticks": "",
            "zerolinecolor": "white"
           }
          },
          "shapedefaults": {
           "line": {
            "color": "#2a3f5f"
           }
          },
          "ternary": {
           "aaxis": {
            "gridcolor": "white",
            "linecolor": "white",
            "ticks": ""
           },
           "baxis": {
            "gridcolor": "white",
            "linecolor": "white",
            "ticks": ""
           },
           "bgcolor": "#E5ECF6",
           "caxis": {
            "gridcolor": "white",
            "linecolor": "white",
            "ticks": ""
           }
          },
          "title": {
           "x": 0.05
          },
          "xaxis": {
           "automargin": true,
           "gridcolor": "white",
           "linecolor": "white",
           "ticks": "",
           "title": {
            "standoff": 15
           },
           "zerolinecolor": "white",
           "zerolinewidth": 2
          },
          "yaxis": {
           "automargin": true,
           "gridcolor": "white",
           "linecolor": "white",
           "ticks": "",
           "title": {
            "standoff": 15
           },
           "zerolinecolor": "white",
           "zerolinewidth": 2
          }
         }
        },
        "title": {
         "text": "Confusion matrix for train set with homemade deep learning model"
        },
        "xaxis": {
         "anchor": "y",
         "constrain": "domain",
         "domain": [
          0,
          1
         ],
         "scaleanchor": "y"
        },
        "yaxis": {
         "anchor": "x",
         "autorange": "reversed",
         "constrain": "domain",
         "domain": [
          0,
          1
         ]
        }
       }
      }
     },
     "metadata": {},
     "output_type": "display_data"
    }
   ],
   "source": [
    "# Train set\n",
    "confusion_train = pd.DataFrame(confusion_matrix(predicted_labels, true_labels),\n",
    "             columns=[\"pred_HAM\",\"pred_SPAM\"],\n",
    "             index=[\"true_HAM\",\"true_SPAM\"])\n",
    "px.imshow(confusion_train,\n",
    "          text_auto=True,\n",
    "          title=\"Confusion matrix for train set with homemade deep learning model\")"
   ]
  },
  {
   "cell_type": "code",
   "execution_count": 26,
   "metadata": {
    "colab": {
     "base_uri": "https://localhost:8080/"
    },
    "executionInfo": {
     "elapsed": 21,
     "status": "ok",
     "timestamp": 1751318467131,
     "user": {
      "displayName": "Albert ROMANO",
      "userId": "04721031700914221121"
     },
     "user_tz": -120
    },
    "id": "Vhx47MWYciAr",
    "outputId": "d4acf835-91c6-410e-b759-4aceb99a239b"
   },
   "outputs": [
    {
     "name": "stdout",
     "output_type": "stream",
     "text": [
      "Validation set classification report :\n",
      "              precision    recall  f1-score   support\n",
      "\n",
      "         0.0       0.99      1.00      0.99       958\n",
      "         1.0       1.00      0.92      0.96       157\n",
      "\n",
      "    accuracy                           0.99      1115\n",
      "   macro avg       0.99      0.96      0.98      1115\n",
      "weighted avg       0.99      0.99      0.99      1115\n",
      "\n"
     ]
    }
   ],
   "source": [
    "# Validation set\n",
    "true_labels_val = worst_predictions_val['True_Label']\n",
    "predicted_labels_val = np.round(worst_predictions_val['Predicted'])\n",
    "print(\"Validation set classification report :\")\n",
    "print(classification_report(true_labels_val, predicted_labels_val))"
   ]
  },
  {
   "cell_type": "code",
   "execution_count": 27,
   "metadata": {
    "colab": {
     "base_uri": "https://localhost:8080/",
     "height": 542
    },
    "executionInfo": {
     "elapsed": 39,
     "status": "ok",
     "timestamp": 1751318467167,
     "user": {
      "displayName": "Albert ROMANO",
      "userId": "04721031700914221121"
     },
     "user_tz": -120
    },
    "id": "OrPPTIqzciAr",
    "outputId": "87a419d3-36cd-49de-c584-f6e14b03d86d"
   },
   "outputs": [
    {
     "data": {
      "application/vnd.plotly.v1+json": {
       "config": {
        "plotlyServerURL": "https://plot.ly"
       },
       "data": [
        {
         "coloraxis": "coloraxis",
         "hovertemplate": "x: %{x}<br>y: %{y}<br>color: %{z}<extra></extra>",
         "name": "0",
         "texttemplate": "%{z}",
         "type": "heatmap",
         "x": [
          "pred_HAM",
          "pred_SPAM"
         ],
         "xaxis": "x",
         "y": [
          "true_HAM",
          "true_SPAM"
         ],
         "yaxis": "y",
         "z": {
          "bdata": "vgMNAAAAkAA=",
          "dtype": "i2",
          "shape": "2, 2"
         }
        }
       ],
       "layout": {
        "coloraxis": {
         "colorscale": [
          [
           0,
           "#0d0887"
          ],
          [
           0.1111111111111111,
           "#46039f"
          ],
          [
           0.2222222222222222,
           "#7201a8"
          ],
          [
           0.3333333333333333,
           "#9c179e"
          ],
          [
           0.4444444444444444,
           "#bd3786"
          ],
          [
           0.5555555555555556,
           "#d8576b"
          ],
          [
           0.6666666666666666,
           "#ed7953"
          ],
          [
           0.7777777777777778,
           "#fb9f3a"
          ],
          [
           0.8888888888888888,
           "#fdca26"
          ],
          [
           1,
           "#f0f921"
          ]
         ]
        },
        "template": {
         "data": {
          "bar": [
           {
            "error_x": {
             "color": "#2a3f5f"
            },
            "error_y": {
             "color": "#2a3f5f"
            },
            "marker": {
             "line": {
              "color": "#E5ECF6",
              "width": 0.5
             },
             "pattern": {
              "fillmode": "overlay",
              "size": 10,
              "solidity": 0.2
             }
            },
            "type": "bar"
           }
          ],
          "barpolar": [
           {
            "marker": {
             "line": {
              "color": "#E5ECF6",
              "width": 0.5
             },
             "pattern": {
              "fillmode": "overlay",
              "size": 10,
              "solidity": 0.2
             }
            },
            "type": "barpolar"
           }
          ],
          "carpet": [
           {
            "aaxis": {
             "endlinecolor": "#2a3f5f",
             "gridcolor": "white",
             "linecolor": "white",
             "minorgridcolor": "white",
             "startlinecolor": "#2a3f5f"
            },
            "baxis": {
             "endlinecolor": "#2a3f5f",
             "gridcolor": "white",
             "linecolor": "white",
             "minorgridcolor": "white",
             "startlinecolor": "#2a3f5f"
            },
            "type": "carpet"
           }
          ],
          "choropleth": [
           {
            "colorbar": {
             "outlinewidth": 0,
             "ticks": ""
            },
            "type": "choropleth"
           }
          ],
          "contour": [
           {
            "colorbar": {
             "outlinewidth": 0,
             "ticks": ""
            },
            "colorscale": [
             [
              0,
              "#0d0887"
             ],
             [
              0.1111111111111111,
              "#46039f"
             ],
             [
              0.2222222222222222,
              "#7201a8"
             ],
             [
              0.3333333333333333,
              "#9c179e"
             ],
             [
              0.4444444444444444,
              "#bd3786"
             ],
             [
              0.5555555555555556,
              "#d8576b"
             ],
             [
              0.6666666666666666,
              "#ed7953"
             ],
             [
              0.7777777777777778,
              "#fb9f3a"
             ],
             [
              0.8888888888888888,
              "#fdca26"
             ],
             [
              1,
              "#f0f921"
             ]
            ],
            "type": "contour"
           }
          ],
          "contourcarpet": [
           {
            "colorbar": {
             "outlinewidth": 0,
             "ticks": ""
            },
            "type": "contourcarpet"
           }
          ],
          "heatmap": [
           {
            "colorbar": {
             "outlinewidth": 0,
             "ticks": ""
            },
            "colorscale": [
             [
              0,
              "#0d0887"
             ],
             [
              0.1111111111111111,
              "#46039f"
             ],
             [
              0.2222222222222222,
              "#7201a8"
             ],
             [
              0.3333333333333333,
              "#9c179e"
             ],
             [
              0.4444444444444444,
              "#bd3786"
             ],
             [
              0.5555555555555556,
              "#d8576b"
             ],
             [
              0.6666666666666666,
              "#ed7953"
             ],
             [
              0.7777777777777778,
              "#fb9f3a"
             ],
             [
              0.8888888888888888,
              "#fdca26"
             ],
             [
              1,
              "#f0f921"
             ]
            ],
            "type": "heatmap"
           }
          ],
          "histogram": [
           {
            "marker": {
             "pattern": {
              "fillmode": "overlay",
              "size": 10,
              "solidity": 0.2
             }
            },
            "type": "histogram"
           }
          ],
          "histogram2d": [
           {
            "colorbar": {
             "outlinewidth": 0,
             "ticks": ""
            },
            "colorscale": [
             [
              0,
              "#0d0887"
             ],
             [
              0.1111111111111111,
              "#46039f"
             ],
             [
              0.2222222222222222,
              "#7201a8"
             ],
             [
              0.3333333333333333,
              "#9c179e"
             ],
             [
              0.4444444444444444,
              "#bd3786"
             ],
             [
              0.5555555555555556,
              "#d8576b"
             ],
             [
              0.6666666666666666,
              "#ed7953"
             ],
             [
              0.7777777777777778,
              "#fb9f3a"
             ],
             [
              0.8888888888888888,
              "#fdca26"
             ],
             [
              1,
              "#f0f921"
             ]
            ],
            "type": "histogram2d"
           }
          ],
          "histogram2dcontour": [
           {
            "colorbar": {
             "outlinewidth": 0,
             "ticks": ""
            },
            "colorscale": [
             [
              0,
              "#0d0887"
             ],
             [
              0.1111111111111111,
              "#46039f"
             ],
             [
              0.2222222222222222,
              "#7201a8"
             ],
             [
              0.3333333333333333,
              "#9c179e"
             ],
             [
              0.4444444444444444,
              "#bd3786"
             ],
             [
              0.5555555555555556,
              "#d8576b"
             ],
             [
              0.6666666666666666,
              "#ed7953"
             ],
             [
              0.7777777777777778,
              "#fb9f3a"
             ],
             [
              0.8888888888888888,
              "#fdca26"
             ],
             [
              1,
              "#f0f921"
             ]
            ],
            "type": "histogram2dcontour"
           }
          ],
          "mesh3d": [
           {
            "colorbar": {
             "outlinewidth": 0,
             "ticks": ""
            },
            "type": "mesh3d"
           }
          ],
          "parcoords": [
           {
            "line": {
             "colorbar": {
              "outlinewidth": 0,
              "ticks": ""
             }
            },
            "type": "parcoords"
           }
          ],
          "pie": [
           {
            "automargin": true,
            "type": "pie"
           }
          ],
          "scatter": [
           {
            "fillpattern": {
             "fillmode": "overlay",
             "size": 10,
             "solidity": 0.2
            },
            "type": "scatter"
           }
          ],
          "scatter3d": [
           {
            "line": {
             "colorbar": {
              "outlinewidth": 0,
              "ticks": ""
             }
            },
            "marker": {
             "colorbar": {
              "outlinewidth": 0,
              "ticks": ""
             }
            },
            "type": "scatter3d"
           }
          ],
          "scattercarpet": [
           {
            "marker": {
             "colorbar": {
              "outlinewidth": 0,
              "ticks": ""
             }
            },
            "type": "scattercarpet"
           }
          ],
          "scattergeo": [
           {
            "marker": {
             "colorbar": {
              "outlinewidth": 0,
              "ticks": ""
             }
            },
            "type": "scattergeo"
           }
          ],
          "scattergl": [
           {
            "marker": {
             "colorbar": {
              "outlinewidth": 0,
              "ticks": ""
             }
            },
            "type": "scattergl"
           }
          ],
          "scattermap": [
           {
            "marker": {
             "colorbar": {
              "outlinewidth": 0,
              "ticks": ""
             }
            },
            "type": "scattermap"
           }
          ],
          "scattermapbox": [
           {
            "marker": {
             "colorbar": {
              "outlinewidth": 0,
              "ticks": ""
             }
            },
            "type": "scattermapbox"
           }
          ],
          "scatterpolar": [
           {
            "marker": {
             "colorbar": {
              "outlinewidth": 0,
              "ticks": ""
             }
            },
            "type": "scatterpolar"
           }
          ],
          "scatterpolargl": [
           {
            "marker": {
             "colorbar": {
              "outlinewidth": 0,
              "ticks": ""
             }
            },
            "type": "scatterpolargl"
           }
          ],
          "scatterternary": [
           {
            "marker": {
             "colorbar": {
              "outlinewidth": 0,
              "ticks": ""
             }
            },
            "type": "scatterternary"
           }
          ],
          "surface": [
           {
            "colorbar": {
             "outlinewidth": 0,
             "ticks": ""
            },
            "colorscale": [
             [
              0,
              "#0d0887"
             ],
             [
              0.1111111111111111,
              "#46039f"
             ],
             [
              0.2222222222222222,
              "#7201a8"
             ],
             [
              0.3333333333333333,
              "#9c179e"
             ],
             [
              0.4444444444444444,
              "#bd3786"
             ],
             [
              0.5555555555555556,
              "#d8576b"
             ],
             [
              0.6666666666666666,
              "#ed7953"
             ],
             [
              0.7777777777777778,
              "#fb9f3a"
             ],
             [
              0.8888888888888888,
              "#fdca26"
             ],
             [
              1,
              "#f0f921"
             ]
            ],
            "type": "surface"
           }
          ],
          "table": [
           {
            "cells": {
             "fill": {
              "color": "#EBF0F8"
             },
             "line": {
              "color": "white"
             }
            },
            "header": {
             "fill": {
              "color": "#C8D4E3"
             },
             "line": {
              "color": "white"
             }
            },
            "type": "table"
           }
          ]
         },
         "layout": {
          "annotationdefaults": {
           "arrowcolor": "#2a3f5f",
           "arrowhead": 0,
           "arrowwidth": 1
          },
          "autotypenumbers": "strict",
          "coloraxis": {
           "colorbar": {
            "outlinewidth": 0,
            "ticks": ""
           }
          },
          "colorscale": {
           "diverging": [
            [
             0,
             "#8e0152"
            ],
            [
             0.1,
             "#c51b7d"
            ],
            [
             0.2,
             "#de77ae"
            ],
            [
             0.3,
             "#f1b6da"
            ],
            [
             0.4,
             "#fde0ef"
            ],
            [
             0.5,
             "#f7f7f7"
            ],
            [
             0.6,
             "#e6f5d0"
            ],
            [
             0.7,
             "#b8e186"
            ],
            [
             0.8,
             "#7fbc41"
            ],
            [
             0.9,
             "#4d9221"
            ],
            [
             1,
             "#276419"
            ]
           ],
           "sequential": [
            [
             0,
             "#0d0887"
            ],
            [
             0.1111111111111111,
             "#46039f"
            ],
            [
             0.2222222222222222,
             "#7201a8"
            ],
            [
             0.3333333333333333,
             "#9c179e"
            ],
            [
             0.4444444444444444,
             "#bd3786"
            ],
            [
             0.5555555555555556,
             "#d8576b"
            ],
            [
             0.6666666666666666,
             "#ed7953"
            ],
            [
             0.7777777777777778,
             "#fb9f3a"
            ],
            [
             0.8888888888888888,
             "#fdca26"
            ],
            [
             1,
             "#f0f921"
            ]
           ],
           "sequentialminus": [
            [
             0,
             "#0d0887"
            ],
            [
             0.1111111111111111,
             "#46039f"
            ],
            [
             0.2222222222222222,
             "#7201a8"
            ],
            [
             0.3333333333333333,
             "#9c179e"
            ],
            [
             0.4444444444444444,
             "#bd3786"
            ],
            [
             0.5555555555555556,
             "#d8576b"
            ],
            [
             0.6666666666666666,
             "#ed7953"
            ],
            [
             0.7777777777777778,
             "#fb9f3a"
            ],
            [
             0.8888888888888888,
             "#fdca26"
            ],
            [
             1,
             "#f0f921"
            ]
           ]
          },
          "colorway": [
           "#636efa",
           "#EF553B",
           "#00cc96",
           "#ab63fa",
           "#FFA15A",
           "#19d3f3",
           "#FF6692",
           "#B6E880",
           "#FF97FF",
           "#FECB52"
          ],
          "font": {
           "color": "#2a3f5f"
          },
          "geo": {
           "bgcolor": "white",
           "lakecolor": "white",
           "landcolor": "#E5ECF6",
           "showlakes": true,
           "showland": true,
           "subunitcolor": "white"
          },
          "hoverlabel": {
           "align": "left"
          },
          "hovermode": "closest",
          "mapbox": {
           "style": "light"
          },
          "paper_bgcolor": "white",
          "plot_bgcolor": "#E5ECF6",
          "polar": {
           "angularaxis": {
            "gridcolor": "white",
            "linecolor": "white",
            "ticks": ""
           },
           "bgcolor": "#E5ECF6",
           "radialaxis": {
            "gridcolor": "white",
            "linecolor": "white",
            "ticks": ""
           }
          },
          "scene": {
           "xaxis": {
            "backgroundcolor": "#E5ECF6",
            "gridcolor": "white",
            "gridwidth": 2,
            "linecolor": "white",
            "showbackground": true,
            "ticks": "",
            "zerolinecolor": "white"
           },
           "yaxis": {
            "backgroundcolor": "#E5ECF6",
            "gridcolor": "white",
            "gridwidth": 2,
            "linecolor": "white",
            "showbackground": true,
            "ticks": "",
            "zerolinecolor": "white"
           },
           "zaxis": {
            "backgroundcolor": "#E5ECF6",
            "gridcolor": "white",
            "gridwidth": 2,
            "linecolor": "white",
            "showbackground": true,
            "ticks": "",
            "zerolinecolor": "white"
           }
          },
          "shapedefaults": {
           "line": {
            "color": "#2a3f5f"
           }
          },
          "ternary": {
           "aaxis": {
            "gridcolor": "white",
            "linecolor": "white",
            "ticks": ""
           },
           "baxis": {
            "gridcolor": "white",
            "linecolor": "white",
            "ticks": ""
           },
           "bgcolor": "#E5ECF6",
           "caxis": {
            "gridcolor": "white",
            "linecolor": "white",
            "ticks": ""
           }
          },
          "title": {
           "x": 0.05
          },
          "xaxis": {
           "automargin": true,
           "gridcolor": "white",
           "linecolor": "white",
           "ticks": "",
           "title": {
            "standoff": 15
           },
           "zerolinecolor": "white",
           "zerolinewidth": 2
          },
          "yaxis": {
           "automargin": true,
           "gridcolor": "white",
           "linecolor": "white",
           "ticks": "",
           "title": {
            "standoff": 15
           },
           "zerolinecolor": "white",
           "zerolinewidth": 2
          }
         }
        },
        "title": {
         "text": "Confusion matrix for validation set with homemade deep learning model"
        },
        "xaxis": {
         "anchor": "y",
         "constrain": "domain",
         "domain": [
          0,
          1
         ],
         "scaleanchor": "y"
        },
        "yaxis": {
         "anchor": "x",
         "autorange": "reversed",
         "constrain": "domain",
         "domain": [
          0,
          1
         ]
        }
       }
      }
     },
     "metadata": {},
     "output_type": "display_data"
    }
   ],
   "source": [
    "# Validation set\n",
    "confusion_val = pd.DataFrame(confusion_matrix(predicted_labels_val, true_labels_val),\n",
    "             columns=[\"pred_HAM\",\"pred_SPAM\"],\n",
    "             index=[\"true_HAM\",\"true_SPAM\"])\n",
    "px.imshow(confusion_val,\n",
    "          text_auto=True,\n",
    "          title=\"Confusion matrix for validation set with homemade deep learning model\")"
   ]
  },
  {
   "cell_type": "markdown",
   "metadata": {},
   "source": [
    "### Prediction error & distribution"
   ]
  },
  {
   "cell_type": "code",
   "execution_count": 28,
   "metadata": {
    "colab": {
     "base_uri": "https://localhost:8080/",
     "height": 196
    },
    "executionInfo": {
     "elapsed": 8,
     "status": "ok",
     "timestamp": 1751318467175,
     "user": {
      "displayName": "Albert ROMANO",
      "userId": "04721031700914221121"
     },
     "user_tz": -120
    },
    "id": "Fn0VTqotciAr",
    "outputId": "95f697fe-77cf-4527-a50e-2b8c3f39d970"
   },
   "outputs": [
    {
     "name": "stdout",
     "output_type": "stream",
     "text": [
      "Train set prediction error by class\n"
     ]
    },
    {
     "data": {
      "text/plain": [
       "True_Label\n",
       "0.0    0.004929\n",
       "1.0    0.021765\n",
       "Name: Error, dtype: float32"
      ]
     },
     "execution_count": 28,
     "metadata": {},
     "output_type": "execute_result"
    }
   ],
   "source": [
    "print(\"Train set prediction error by class\")\n",
    "worst_predictions_train.groupby(\"True_Label\")[\"Error\"].mean()"
   ]
  },
  {
   "cell_type": "code",
   "execution_count": 29,
   "metadata": {
    "colab": {
     "base_uri": "https://localhost:8080/",
     "height": 196
    },
    "executionInfo": {
     "elapsed": 7,
     "status": "ok",
     "timestamp": 1751318467183,
     "user": {
      "displayName": "Albert ROMANO",
      "userId": "04721031700914221121"
     },
     "user_tz": -120
    },
    "id": "bWsFDT-CciAr",
    "outputId": "31ded372-a128-46dc-982c-20928dfffbe3"
   },
   "outputs": [
    {
     "name": "stdout",
     "output_type": "stream",
     "text": [
      "Train set distribution\n"
     ]
    },
    {
     "data": {
      "text/plain": [
       "True_Label\n",
       "0.0    3867\n",
       "1.0     590\n",
       "Name: count, dtype: int64"
      ]
     },
     "execution_count": 29,
     "metadata": {},
     "output_type": "execute_result"
    }
   ],
   "source": [
    "print(\"Train set distribution\")\n",
    "worst_predictions_train[\"True_Label\"].value_counts()"
   ]
  },
  {
   "cell_type": "code",
   "execution_count": 30,
   "metadata": {
    "colab": {
     "base_uri": "https://localhost:8080/",
     "height": 196
    },
    "executionInfo": {
     "elapsed": 43,
     "status": "ok",
     "timestamp": 1751318467243,
     "user": {
      "displayName": "Albert ROMANO",
      "userId": "04721031700914221121"
     },
     "user_tz": -120
    },
    "id": "_zS_CMhcciAr",
    "outputId": "d0f9fd6a-dfe9-409e-e975-9b3d2fd03af4"
   },
   "outputs": [
    {
     "name": "stdout",
     "output_type": "stream",
     "text": [
      "Validation set prediction error by class\n"
     ]
    },
    {
     "data": {
      "text/plain": [
       "True_Label\n",
       "0.0    0.007866\n",
       "1.0    0.088783\n",
       "Name: Error, dtype: float32"
      ]
     },
     "execution_count": 30,
     "metadata": {},
     "output_type": "execute_result"
    }
   ],
   "source": [
    "print(\"Validation set prediction error by class\")\n",
    "worst_predictions_val.groupby(\"True_Label\")[\"Error\"].mean()"
   ]
  },
  {
   "cell_type": "code",
   "execution_count": 31,
   "metadata": {
    "colab": {
     "base_uri": "https://localhost:8080/",
     "height": 196
    },
    "executionInfo": {
     "elapsed": 23,
     "status": "ok",
     "timestamp": 1751318467261,
     "user": {
      "displayName": "Albert ROMANO",
      "userId": "04721031700914221121"
     },
     "user_tz": -120
    },
    "id": "uHNOLoxMciAs",
    "outputId": "acdb9332-62fd-4ad7-d67f-582e7afa5982"
   },
   "outputs": [
    {
     "name": "stdout",
     "output_type": "stream",
     "text": [
      "Validation set spam distribution\n"
     ]
    },
    {
     "data": {
      "text/plain": [
       "True_Label\n",
       "0.0    958\n",
       "1.0    157\n",
       "Name: count, dtype: int64"
      ]
     },
     "execution_count": 31,
     "metadata": {},
     "output_type": "execute_result"
    }
   ],
   "source": [
    "print(\"Validation set spam distribution\")\n",
    "worst_predictions_val[\"True_Label\"].value_counts()"
   ]
  },
  {
   "cell_type": "markdown",
   "metadata": {
    "id": "Zf83Wp6nciAs"
   },
   "source": [
    "**Since our dataset is small and spam/ham are poorly distributed we will try to use a more sophisticated model trained on billions of observations.**"
   ]
  },
  {
   "cell_type": "markdown",
   "metadata": {
    "id": "ESqXAoqcciAs"
   },
   "source": [
    "# 6. Sophisticated deep learning model with Transformers 🤖"
   ]
  },
  {
   "cell_type": "markdown",
   "metadata": {},
   "source": [
    "## 6.1 Preprocessing"
   ]
  },
  {
   "cell_type": "code",
   "execution_count": 32,
   "metadata": {},
   "outputs": [
    {
     "data": {
      "text/html": [
       "<div>\n",
       "<style scoped>\n",
       "    .dataframe tbody tr th:only-of-type {\n",
       "        vertical-align: middle;\n",
       "    }\n",
       "\n",
       "    .dataframe tbody tr th {\n",
       "        vertical-align: top;\n",
       "    }\n",
       "\n",
       "    .dataframe thead th {\n",
       "        text-align: right;\n",
       "    }\n",
       "</style>\n",
       "<table border=\"1\" class=\"dataframe\">\n",
       "  <thead>\n",
       "    <tr style=\"text-align: right;\">\n",
       "      <th></th>\n",
       "      <th>label</th>\n",
       "      <th>text</th>\n",
       "    </tr>\n",
       "  </thead>\n",
       "  <tbody>\n",
       "    <tr>\n",
       "      <th>0</th>\n",
       "      <td>0</td>\n",
       "      <td>Go until jurong point, crazy.. Available only ...</td>\n",
       "    </tr>\n",
       "    <tr>\n",
       "      <th>1</th>\n",
       "      <td>0</td>\n",
       "      <td>Ok lar... Joking wif u oni...</td>\n",
       "    </tr>\n",
       "    <tr>\n",
       "      <th>2</th>\n",
       "      <td>1</td>\n",
       "      <td>Free entry in 2 a wkly comp to win FA Cup fina...</td>\n",
       "    </tr>\n",
       "    <tr>\n",
       "      <th>3</th>\n",
       "      <td>0</td>\n",
       "      <td>U dun say so early hor... U c already then say...</td>\n",
       "    </tr>\n",
       "    <tr>\n",
       "      <th>4</th>\n",
       "      <td>0</td>\n",
       "      <td>Nah I don't think he goes to usf, he lives aro...</td>\n",
       "    </tr>\n",
       "  </tbody>\n",
       "</table>\n",
       "</div>"
      ],
      "text/plain": [
       "   label                                               text\n",
       "0      0  Go until jurong point, crazy.. Available only ...\n",
       "1      0                      Ok lar... Joking wif u oni...\n",
       "2      1  Free entry in 2 a wkly comp to win FA Cup fina...\n",
       "3      0  U dun say so early hor... U c already then say...\n",
       "4      0  Nah I don't think he goes to usf, he lives aro..."
      ]
     },
     "execution_count": 32,
     "metadata": {},
     "output_type": "execute_result"
    }
   ],
   "source": [
    "df_dtrans = df_v1.copy(deep=True)\n",
    "df_dtrans.head()"
   ]
  },
  {
   "cell_type": "code",
   "execution_count": 33,
   "metadata": {
    "colab": {
     "base_uri": "https://localhost:8080/"
    },
    "executionInfo": {
     "elapsed": 45,
     "status": "ok",
     "timestamp": 1751321705714,
     "user": {
      "displayName": "Albert ROMANO",
      "userId": "04721031700914221121"
     },
     "user_tz": -120
    },
    "id": "Yd_HFNcExxE8",
    "outputId": "c0a5221c-81eb-4364-f1a6-816794c75cf9"
   },
   "outputs": [
    {
     "data": {
      "text/plain": [
       "Dataset({\n",
       "    features: ['label', 'text'],\n",
       "    num_rows: 5572\n",
       "})"
      ]
     },
     "execution_count": 33,
     "metadata": {},
     "output_type": "execute_result"
    }
   ],
   "source": [
    "dataset_dftrans = dset.from_pandas(df_dtrans)\n",
    "dataset_dftrans"
   ]
  },
  {
   "cell_type": "code",
   "execution_count": 34,
   "metadata": {
    "colab": {
     "base_uri": "https://localhost:8080/"
    },
    "executionInfo": {
     "elapsed": 18,
     "status": "ok",
     "timestamp": 1751322052051,
     "user": {
      "displayName": "Albert ROMANO",
      "userId": "04721031700914221121"
     },
     "user_tz": -120
    },
    "id": "iCtaP9jb6IUP",
    "outputId": "08205572-7ac9-4098-a1b7-f71bcedd339a"
   },
   "outputs": [
    {
     "name": "stdout",
     "output_type": "stream",
     "text": [
      "Train set : 4457 samples\n",
      "Validation set : 1115 samples\n"
     ]
    }
   ],
   "source": [
    "# Split data (80% train / 20% validation)\n",
    "split_dataset = dataset_dftrans.train_test_split(test_size=0.2, seed=42)\n",
    "\n",
    "train_dataset = split_dataset['train']\n",
    "val_dataset = split_dataset['test']\n",
    "\n",
    "print(f\"Train set : {len(train_dataset)} samples\")\n",
    "print(f\"Validation set : {len(val_dataset)} samples\")"
   ]
  },
  {
   "cell_type": "markdown",
   "metadata": {},
   "source": [
    "## 6.2 Tokenizing\n",
    "We use the \"bert-base-uncased\" tokenizer in order to prepare the dataset for model fine-tuning"
   ]
  },
  {
   "cell_type": "code",
   "execution_count": null,
   "metadata": {
    "colab": {
     "base_uri": "https://localhost:8080/",
     "height": 81,
     "referenced_widgets": [
      "eaed2412b21d49cca0a98e8e349e836c",
      "2f79824026c24dc4a1285e8ecd4c8bff",
      "8d76e02c2bad42feb1e4305200ea34f9",
      "4aef9763a8fb41018037baf5949d53ef",
      "0281b12344d74ecfa74047f71f5e99a3",
      "8efc778c31b949649373dcfe68cd6f21",
      "147c216163cf46b78314b881262680c5",
      "19795ac17ccc494d986bb72583ff5a59",
      "3604aae7b42f46558ce15ddaba92a61e",
      "09333682e44045589621b8458d27d5b1",
      "1c33ceaf4d2745879bd8179c8110f363",
      "a185493668514133990a30a51fd938bd",
      "85dd3c0258b744379394cf061965082d",
      "f36bfd8abf754824950366bfbd1c257b",
      "a050157de0794d00ac337fbf9193c6c7",
      "2527db25c3d54f8497259397ec296fd5",
      "87d01bf3227649e893cf3d20226278b4",
      "201aacc55c8a4500a570bc5271cb214d",
      "9949356880c447269ba0a3b106004fbe",
      "8a972ed451f14f32a8703205f0d7d6b9",
      "e29e3d95ed26424b86d2957bc01872d1",
      "ec9eadd914f94c73b0cfd0ac468f1f94"
     ]
    },
    "executionInfo": {
     "elapsed": 5272,
     "status": "ok",
     "timestamp": 1751322060586,
     "user": {
      "displayName": "Albert ROMANO",
      "userId": "04721031700914221121"
     },
     "user_tz": -120
    },
    "id": "Yaum2iA5ciAs",
    "outputId": "f9abc836-688f-4b3a-fd38-25d9e7795219"
   },
   "outputs": [
    {
     "name": "stderr",
     "output_type": "stream",
     "text": [
      "Map: 100%|██████████| 4457/4457 [00:00<00:00, 5158.41 examples/s]\n",
      "Map: 100%|██████████| 1115/1115 [00:00<00:00, 5778.98 examples/s]\n"
     ]
    }
   ],
   "source": [
    "checkpoint = \"bert-base-uncased\"\n",
    "tokenizer = AutoTokenizer.from_pretrained(checkpoint)\n",
    "\n",
    "def tokenize_function(example):\n",
    "    return tokenizer(example[\"text\"], truncation=True, padding=True)\n",
    "\n",
    "tok_df_train_dtrans = train_dataset.map(tokenize_function, batched=True)\n",
    "tok_df_val_trans = val_dataset.map(tokenize_function, batched=True)\n",
    "\n",
    "data_collator = DataCollatorWithPadding(tokenizer=tokenizer)"
   ]
  },
  {
   "cell_type": "markdown",
   "metadata": {},
   "source": [
    "## 6.3 Loading model"
   ]
  },
  {
   "cell_type": "code",
   "execution_count": null,
   "metadata": {
    "executionInfo": {
     "elapsed": 13,
     "status": "ok",
     "timestamp": 1751322064668,
     "user": {
      "displayName": "Albert ROMANO",
      "userId": "04721031700914221121"
     },
     "user_tz": -120
    },
    "id": "LSuEClh-ciAt"
   },
   "outputs": [],
   "source": [
    "# We define a TrainingArguments class that will contain all the hyperparameters the Trainer will use for training and evaluation\n",
    "training_args = TrainingArguments(\"test-trainer\",report_to=\"none\")"
   ]
  },
  {
   "cell_type": "code",
   "execution_count": null,
   "metadata": {
    "colab": {
     "base_uri": "https://localhost:8080/"
    },
    "executionInfo": {
     "elapsed": 623,
     "status": "ok",
     "timestamp": 1751322066907,
     "user": {
      "displayName": "Albert ROMANO",
      "userId": "04721031700914221121"
     },
     "user_tz": -120
    },
    "id": "66oC5ISIciAt",
    "outputId": "8a25e2f3-f227-457a-8563-b4fa3a3d755d"
   },
   "outputs": [
    {
     "name": "stderr",
     "output_type": "stream",
     "text": [
      "Some weights of BertForSequenceClassification were not initialized from the model checkpoint at bert-base-uncased and are newly initialized: ['classifier.bias', 'classifier.weight']\n",
      "You should probably TRAIN this model on a down-stream task to be able to use it for predictions and inference.\n"
     ]
    }
   ],
   "source": [
    "# Define model with predefined weights & the number of labels\n",
    "model_trans = AutoModelForSequenceClassification.from_pretrained(checkpoint, num_labels=2)"
   ]
  },
  {
   "cell_type": "markdown",
   "metadata": {},
   "source": [
    "## 6.4 Training model"
   ]
  },
  {
   "cell_type": "code",
   "execution_count": 39,
   "metadata": {
    "executionInfo": {
     "elapsed": 37,
     "status": "ok",
     "timestamp": 1751322091048,
     "user": {
      "displayName": "Albert ROMANO",
      "userId": "04721031700914221121"
     },
     "user_tz": -120
    },
    "id": "MO8zrnriciAt"
   },
   "outputs": [],
   "source": [
    "# Define trainer\n",
    "trainer = Trainer(\n",
    "    model_trans,\n",
    "    training_args,\n",
    "    train_dataset= tok_df_train_dtrans,\n",
    "    eval_dataset= tok_df_val_trans,\n",
    "    data_collator=data_collator,\n",
    "    processing_class=tokenizer,\n",
    ")"
   ]
  },
  {
   "cell_type": "code",
   "execution_count": 40,
   "metadata": {
    "colab": {
     "base_uri": "https://localhost:8080/",
     "height": 287
    },
    "executionInfo": {
     "elapsed": 2009,
     "status": "error",
     "timestamp": 1751323236348,
     "user": {
      "displayName": "Albert ROMANO",
      "userId": "04721031700914221121"
     },
     "user_tz": -120
    },
    "id": "RtGn9B-kciAt",
    "outputId": "bba2bf9e-24bb-4857-8a4c-57c6da86dfaa"
   },
   "outputs": [
    {
     "data": {
      "text/html": [
       "\n",
       "    <div>\n",
       "      \n",
       "      <progress value='1674' max='1674' style='width:300px; height:20px; vertical-align: middle;'></progress>\n",
       "      [1674/1674 23:53, Epoch 3/3]\n",
       "    </div>\n",
       "    <table border=\"1\" class=\"dataframe\">\n",
       "  <thead>\n",
       " <tr style=\"text-align: left;\">\n",
       "      <th>Step</th>\n",
       "      <th>Training Loss</th>\n",
       "    </tr>\n",
       "  </thead>\n",
       "  <tbody>\n",
       "    <tr>\n",
       "      <td>500</td>\n",
       "      <td>0.082900</td>\n",
       "    </tr>\n",
       "    <tr>\n",
       "      <td>1000</td>\n",
       "      <td>0.032100</td>\n",
       "    </tr>\n",
       "    <tr>\n",
       "      <td>1500</td>\n",
       "      <td>0.008000</td>\n",
       "    </tr>\n",
       "  </tbody>\n",
       "</table><p>"
      ],
      "text/plain": [
       "<IPython.core.display.HTML object>"
      ]
     },
     "metadata": {},
     "output_type": "display_data"
    },
    {
     "data": {
      "text/plain": [
       "TrainOutput(global_step=1674, training_loss=0.03748012123142092, metrics={'train_runtime': 1434.5004, 'train_samples_per_second': 9.321, 'train_steps_per_second': 1.167, 'total_flos': 1620040031726580.0, 'train_loss': 0.03748012123142092, 'epoch': 3.0})"
      ]
     },
     "execution_count": 40,
     "metadata": {},
     "output_type": "execute_result"
    }
   ],
   "source": [
    "trainer.train()"
   ]
  },
  {
   "cell_type": "markdown",
   "metadata": {},
   "source": [
    "## 6.5 Error analysis"
   ]
  },
  {
   "cell_type": "markdown",
   "metadata": {},
   "source": [
    "### Classification Reports & confusion matrix"
   ]
  },
  {
   "cell_type": "code",
   "execution_count": 41,
   "metadata": {
    "executionInfo": {
     "elapsed": 339878,
     "status": "aborted",
     "timestamp": 1751318479435,
     "user": {
      "displayName": "Albert ROMANO",
      "userId": "04721031700914221121"
     },
     "user_tz": -120
    },
    "id": "QBVN3MS3ciAt"
   },
   "outputs": [
    {
     "data": {
      "text/html": [],
      "text/plain": [
       "<IPython.core.display.HTML object>"
      ]
     },
     "metadata": {},
     "output_type": "display_data"
    },
    {
     "name": "stdout",
     "output_type": "stream",
     "text": [
      "Validation set classification report :\n",
      "              precision    recall  f1-score   support\n",
      "\n",
      "           0       0.99      1.00      1.00       970\n",
      "           1       0.99      0.96      0.97       145\n",
      "\n",
      "    accuracy                           0.99      1115\n",
      "   macro avg       0.99      0.98      0.98      1115\n",
      "weighted avg       0.99      0.99      0.99      1115\n",
      "\n"
     ]
    }
   ],
   "source": [
    "# Predictions on validation set\n",
    "predictions = trainer.predict(tok_df_val_trans)\n",
    "preds_trans = np.argmax(predictions.predictions, axis=-1)\n",
    "true_labels_trans = tok_df_val_trans[\"label\"]\n",
    "print(\"Validation set classification report :\")\n",
    "print(classification_report(true_labels_trans, preds_trans))"
   ]
  },
  {
   "cell_type": "code",
   "execution_count": 42,
   "metadata": {
    "executionInfo": {
     "elapsed": 339874,
     "status": "aborted",
     "timestamp": 1751318479436,
     "user": {
      "displayName": "Albert ROMANO",
      "userId": "04721031700914221121"
     },
     "user_tz": -120
    },
    "id": "vHuaArYMciAt"
   },
   "outputs": [
    {
     "data": {
      "application/vnd.plotly.v1+json": {
       "config": {
        "plotlyServerURL": "https://plot.ly"
       },
       "data": [
        {
         "coloraxis": "coloraxis",
         "hovertemplate": "x: %{x}<br>y: %{y}<br>color: %{z}<extra></extra>",
         "name": "0",
         "texttemplate": "%{z}",
         "type": "heatmap",
         "x": [
          "pred_HAM",
          "pred_SPAM"
         ],
         "xaxis": "x",
         "y": [
          "true_HAM",
          "true_SPAM"
         ],
         "yaxis": "y",
         "z": {
          "bdata": "yAMGAAIAiwA=",
          "dtype": "i2",
          "shape": "2, 2"
         }
        }
       ],
       "layout": {
        "coloraxis": {
         "colorscale": [
          [
           0,
           "#0d0887"
          ],
          [
           0.1111111111111111,
           "#46039f"
          ],
          [
           0.2222222222222222,
           "#7201a8"
          ],
          [
           0.3333333333333333,
           "#9c179e"
          ],
          [
           0.4444444444444444,
           "#bd3786"
          ],
          [
           0.5555555555555556,
           "#d8576b"
          ],
          [
           0.6666666666666666,
           "#ed7953"
          ],
          [
           0.7777777777777778,
           "#fb9f3a"
          ],
          [
           0.8888888888888888,
           "#fdca26"
          ],
          [
           1,
           "#f0f921"
          ]
         ]
        },
        "template": {
         "data": {
          "bar": [
           {
            "error_x": {
             "color": "#2a3f5f"
            },
            "error_y": {
             "color": "#2a3f5f"
            },
            "marker": {
             "line": {
              "color": "#E5ECF6",
              "width": 0.5
             },
             "pattern": {
              "fillmode": "overlay",
              "size": 10,
              "solidity": 0.2
             }
            },
            "type": "bar"
           }
          ],
          "barpolar": [
           {
            "marker": {
             "line": {
              "color": "#E5ECF6",
              "width": 0.5
             },
             "pattern": {
              "fillmode": "overlay",
              "size": 10,
              "solidity": 0.2
             }
            },
            "type": "barpolar"
           }
          ],
          "carpet": [
           {
            "aaxis": {
             "endlinecolor": "#2a3f5f",
             "gridcolor": "white",
             "linecolor": "white",
             "minorgridcolor": "white",
             "startlinecolor": "#2a3f5f"
            },
            "baxis": {
             "endlinecolor": "#2a3f5f",
             "gridcolor": "white",
             "linecolor": "white",
             "minorgridcolor": "white",
             "startlinecolor": "#2a3f5f"
            },
            "type": "carpet"
           }
          ],
          "choropleth": [
           {
            "colorbar": {
             "outlinewidth": 0,
             "ticks": ""
            },
            "type": "choropleth"
           }
          ],
          "contour": [
           {
            "colorbar": {
             "outlinewidth": 0,
             "ticks": ""
            },
            "colorscale": [
             [
              0,
              "#0d0887"
             ],
             [
              0.1111111111111111,
              "#46039f"
             ],
             [
              0.2222222222222222,
              "#7201a8"
             ],
             [
              0.3333333333333333,
              "#9c179e"
             ],
             [
              0.4444444444444444,
              "#bd3786"
             ],
             [
              0.5555555555555556,
              "#d8576b"
             ],
             [
              0.6666666666666666,
              "#ed7953"
             ],
             [
              0.7777777777777778,
              "#fb9f3a"
             ],
             [
              0.8888888888888888,
              "#fdca26"
             ],
             [
              1,
              "#f0f921"
             ]
            ],
            "type": "contour"
           }
          ],
          "contourcarpet": [
           {
            "colorbar": {
             "outlinewidth": 0,
             "ticks": ""
            },
            "type": "contourcarpet"
           }
          ],
          "heatmap": [
           {
            "colorbar": {
             "outlinewidth": 0,
             "ticks": ""
            },
            "colorscale": [
             [
              0,
              "#0d0887"
             ],
             [
              0.1111111111111111,
              "#46039f"
             ],
             [
              0.2222222222222222,
              "#7201a8"
             ],
             [
              0.3333333333333333,
              "#9c179e"
             ],
             [
              0.4444444444444444,
              "#bd3786"
             ],
             [
              0.5555555555555556,
              "#d8576b"
             ],
             [
              0.6666666666666666,
              "#ed7953"
             ],
             [
              0.7777777777777778,
              "#fb9f3a"
             ],
             [
              0.8888888888888888,
              "#fdca26"
             ],
             [
              1,
              "#f0f921"
             ]
            ],
            "type": "heatmap"
           }
          ],
          "histogram": [
           {
            "marker": {
             "pattern": {
              "fillmode": "overlay",
              "size": 10,
              "solidity": 0.2
             }
            },
            "type": "histogram"
           }
          ],
          "histogram2d": [
           {
            "colorbar": {
             "outlinewidth": 0,
             "ticks": ""
            },
            "colorscale": [
             [
              0,
              "#0d0887"
             ],
             [
              0.1111111111111111,
              "#46039f"
             ],
             [
              0.2222222222222222,
              "#7201a8"
             ],
             [
              0.3333333333333333,
              "#9c179e"
             ],
             [
              0.4444444444444444,
              "#bd3786"
             ],
             [
              0.5555555555555556,
              "#d8576b"
             ],
             [
              0.6666666666666666,
              "#ed7953"
             ],
             [
              0.7777777777777778,
              "#fb9f3a"
             ],
             [
              0.8888888888888888,
              "#fdca26"
             ],
             [
              1,
              "#f0f921"
             ]
            ],
            "type": "histogram2d"
           }
          ],
          "histogram2dcontour": [
           {
            "colorbar": {
             "outlinewidth": 0,
             "ticks": ""
            },
            "colorscale": [
             [
              0,
              "#0d0887"
             ],
             [
              0.1111111111111111,
              "#46039f"
             ],
             [
              0.2222222222222222,
              "#7201a8"
             ],
             [
              0.3333333333333333,
              "#9c179e"
             ],
             [
              0.4444444444444444,
              "#bd3786"
             ],
             [
              0.5555555555555556,
              "#d8576b"
             ],
             [
              0.6666666666666666,
              "#ed7953"
             ],
             [
              0.7777777777777778,
              "#fb9f3a"
             ],
             [
              0.8888888888888888,
              "#fdca26"
             ],
             [
              1,
              "#f0f921"
             ]
            ],
            "type": "histogram2dcontour"
           }
          ],
          "mesh3d": [
           {
            "colorbar": {
             "outlinewidth": 0,
             "ticks": ""
            },
            "type": "mesh3d"
           }
          ],
          "parcoords": [
           {
            "line": {
             "colorbar": {
              "outlinewidth": 0,
              "ticks": ""
             }
            },
            "type": "parcoords"
           }
          ],
          "pie": [
           {
            "automargin": true,
            "type": "pie"
           }
          ],
          "scatter": [
           {
            "fillpattern": {
             "fillmode": "overlay",
             "size": 10,
             "solidity": 0.2
            },
            "type": "scatter"
           }
          ],
          "scatter3d": [
           {
            "line": {
             "colorbar": {
              "outlinewidth": 0,
              "ticks": ""
             }
            },
            "marker": {
             "colorbar": {
              "outlinewidth": 0,
              "ticks": ""
             }
            },
            "type": "scatter3d"
           }
          ],
          "scattercarpet": [
           {
            "marker": {
             "colorbar": {
              "outlinewidth": 0,
              "ticks": ""
             }
            },
            "type": "scattercarpet"
           }
          ],
          "scattergeo": [
           {
            "marker": {
             "colorbar": {
              "outlinewidth": 0,
              "ticks": ""
             }
            },
            "type": "scattergeo"
           }
          ],
          "scattergl": [
           {
            "marker": {
             "colorbar": {
              "outlinewidth": 0,
              "ticks": ""
             }
            },
            "type": "scattergl"
           }
          ],
          "scattermap": [
           {
            "marker": {
             "colorbar": {
              "outlinewidth": 0,
              "ticks": ""
             }
            },
            "type": "scattermap"
           }
          ],
          "scattermapbox": [
           {
            "marker": {
             "colorbar": {
              "outlinewidth": 0,
              "ticks": ""
             }
            },
            "type": "scattermapbox"
           }
          ],
          "scatterpolar": [
           {
            "marker": {
             "colorbar": {
              "outlinewidth": 0,
              "ticks": ""
             }
            },
            "type": "scatterpolar"
           }
          ],
          "scatterpolargl": [
           {
            "marker": {
             "colorbar": {
              "outlinewidth": 0,
              "ticks": ""
             }
            },
            "type": "scatterpolargl"
           }
          ],
          "scatterternary": [
           {
            "marker": {
             "colorbar": {
              "outlinewidth": 0,
              "ticks": ""
             }
            },
            "type": "scatterternary"
           }
          ],
          "surface": [
           {
            "colorbar": {
             "outlinewidth": 0,
             "ticks": ""
            },
            "colorscale": [
             [
              0,
              "#0d0887"
             ],
             [
              0.1111111111111111,
              "#46039f"
             ],
             [
              0.2222222222222222,
              "#7201a8"
             ],
             [
              0.3333333333333333,
              "#9c179e"
             ],
             [
              0.4444444444444444,
              "#bd3786"
             ],
             [
              0.5555555555555556,
              "#d8576b"
             ],
             [
              0.6666666666666666,
              "#ed7953"
             ],
             [
              0.7777777777777778,
              "#fb9f3a"
             ],
             [
              0.8888888888888888,
              "#fdca26"
             ],
             [
              1,
              "#f0f921"
             ]
            ],
            "type": "surface"
           }
          ],
          "table": [
           {
            "cells": {
             "fill": {
              "color": "#EBF0F8"
             },
             "line": {
              "color": "white"
             }
            },
            "header": {
             "fill": {
              "color": "#C8D4E3"
             },
             "line": {
              "color": "white"
             }
            },
            "type": "table"
           }
          ]
         },
         "layout": {
          "annotationdefaults": {
           "arrowcolor": "#2a3f5f",
           "arrowhead": 0,
           "arrowwidth": 1
          },
          "autotypenumbers": "strict",
          "coloraxis": {
           "colorbar": {
            "outlinewidth": 0,
            "ticks": ""
           }
          },
          "colorscale": {
           "diverging": [
            [
             0,
             "#8e0152"
            ],
            [
             0.1,
             "#c51b7d"
            ],
            [
             0.2,
             "#de77ae"
            ],
            [
             0.3,
             "#f1b6da"
            ],
            [
             0.4,
             "#fde0ef"
            ],
            [
             0.5,
             "#f7f7f7"
            ],
            [
             0.6,
             "#e6f5d0"
            ],
            [
             0.7,
             "#b8e186"
            ],
            [
             0.8,
             "#7fbc41"
            ],
            [
             0.9,
             "#4d9221"
            ],
            [
             1,
             "#276419"
            ]
           ],
           "sequential": [
            [
             0,
             "#0d0887"
            ],
            [
             0.1111111111111111,
             "#46039f"
            ],
            [
             0.2222222222222222,
             "#7201a8"
            ],
            [
             0.3333333333333333,
             "#9c179e"
            ],
            [
             0.4444444444444444,
             "#bd3786"
            ],
            [
             0.5555555555555556,
             "#d8576b"
            ],
            [
             0.6666666666666666,
             "#ed7953"
            ],
            [
             0.7777777777777778,
             "#fb9f3a"
            ],
            [
             0.8888888888888888,
             "#fdca26"
            ],
            [
             1,
             "#f0f921"
            ]
           ],
           "sequentialminus": [
            [
             0,
             "#0d0887"
            ],
            [
             0.1111111111111111,
             "#46039f"
            ],
            [
             0.2222222222222222,
             "#7201a8"
            ],
            [
             0.3333333333333333,
             "#9c179e"
            ],
            [
             0.4444444444444444,
             "#bd3786"
            ],
            [
             0.5555555555555556,
             "#d8576b"
            ],
            [
             0.6666666666666666,
             "#ed7953"
            ],
            [
             0.7777777777777778,
             "#fb9f3a"
            ],
            [
             0.8888888888888888,
             "#fdca26"
            ],
            [
             1,
             "#f0f921"
            ]
           ]
          },
          "colorway": [
           "#636efa",
           "#EF553B",
           "#00cc96",
           "#ab63fa",
           "#FFA15A",
           "#19d3f3",
           "#FF6692",
           "#B6E880",
           "#FF97FF",
           "#FECB52"
          ],
          "font": {
           "color": "#2a3f5f"
          },
          "geo": {
           "bgcolor": "white",
           "lakecolor": "white",
           "landcolor": "#E5ECF6",
           "showlakes": true,
           "showland": true,
           "subunitcolor": "white"
          },
          "hoverlabel": {
           "align": "left"
          },
          "hovermode": "closest",
          "mapbox": {
           "style": "light"
          },
          "paper_bgcolor": "white",
          "plot_bgcolor": "#E5ECF6",
          "polar": {
           "angularaxis": {
            "gridcolor": "white",
            "linecolor": "white",
            "ticks": ""
           },
           "bgcolor": "#E5ECF6",
           "radialaxis": {
            "gridcolor": "white",
            "linecolor": "white",
            "ticks": ""
           }
          },
          "scene": {
           "xaxis": {
            "backgroundcolor": "#E5ECF6",
            "gridcolor": "white",
            "gridwidth": 2,
            "linecolor": "white",
            "showbackground": true,
            "ticks": "",
            "zerolinecolor": "white"
           },
           "yaxis": {
            "backgroundcolor": "#E5ECF6",
            "gridcolor": "white",
            "gridwidth": 2,
            "linecolor": "white",
            "showbackground": true,
            "ticks": "",
            "zerolinecolor": "white"
           },
           "zaxis": {
            "backgroundcolor": "#E5ECF6",
            "gridcolor": "white",
            "gridwidth": 2,
            "linecolor": "white",
            "showbackground": true,
            "ticks": "",
            "zerolinecolor": "white"
           }
          },
          "shapedefaults": {
           "line": {
            "color": "#2a3f5f"
           }
          },
          "ternary": {
           "aaxis": {
            "gridcolor": "white",
            "linecolor": "white",
            "ticks": ""
           },
           "baxis": {
            "gridcolor": "white",
            "linecolor": "white",
            "ticks": ""
           },
           "bgcolor": "#E5ECF6",
           "caxis": {
            "gridcolor": "white",
            "linecolor": "white",
            "ticks": ""
           }
          },
          "title": {
           "x": 0.05
          },
          "xaxis": {
           "automargin": true,
           "gridcolor": "white",
           "linecolor": "white",
           "ticks": "",
           "title": {
            "standoff": 15
           },
           "zerolinecolor": "white",
           "zerolinewidth": 2
          },
          "yaxis": {
           "automargin": true,
           "gridcolor": "white",
           "linecolor": "white",
           "ticks": "",
           "title": {
            "standoff": 15
           },
           "zerolinecolor": "white",
           "zerolinewidth": 2
          }
         }
        },
        "title": {
         "text": "Confusion matrix for validation set with bert-base-uncased deep learning model"
        },
        "xaxis": {
         "anchor": "y",
         "constrain": "domain",
         "domain": [
          0,
          1
         ],
         "scaleanchor": "y"
        },
        "yaxis": {
         "anchor": "x",
         "autorange": "reversed",
         "constrain": "domain",
         "domain": [
          0,
          1
         ]
        }
       }
      }
     },
     "metadata": {},
     "output_type": "display_data"
    }
   ],
   "source": [
    "confusion = pd.DataFrame(confusion_matrix(preds_trans, true_labels_trans),\n",
    "             columns=[\"pred_HAM\",\"pred_SPAM\"],\n",
    "             index=[\"true_HAM\",\"true_SPAM\"])\n",
    "px.imshow(confusion,\n",
    "          text_auto=True,\n",
    "          title=\"Confusion matrix for validation set with bert-base-uncased deep learning model\")"
   ]
  },
  {
   "cell_type": "markdown",
   "metadata": {},
   "source": [
    "# Comparaisons & conclusions"
   ]
  },
  {
   "cell_type": "markdown",
   "metadata": {},
   "source": [
    "It's important to remember that this dataset is relatively unbalanced: spam represents only 13% of the data.\n",
    "\n",
    "However, in our spam detection case study, our homemade model is already relatively powerful and doesn't require so many resources.\n",
    "A more complex and fine-tuned model such as bert-base-uncased is also very powerful, but it requires more resources.\n",
    "\n",
    "Indeed, on the validation sets, our homemade model exhibits an accuracy of 0.99 (60 epochs), as does our fine tuned model (3 epochs).\n",
    "\n",
    "- Precision is between 0.99 and 1 VS 0.99 and 0.99\n",
    "- Recall is between 1 and 0.92 VS 1 and 0.96\n",
    "- F1 score is between 0.99 and 0.96 VS 1 and 0.97\n",
    "\n",
    "Confusions matrix are pretty similar too : 13/1115 errors (around 1.2%) for homemade model VS 8/1115 (around 0.7%) for fine-tuned model on validation sets.\n",
    "\n",
    "For this specific case of binary classification, it would seem that a very simple deep learning model only composed of 3 layers (embedding + pooling + sigmoid) is fast and efficient enough to meet our needs."
   ]
  },
  {
   "cell_type": "markdown",
   "metadata": {},
   "source": []
  }
 ],
 "metadata": {
  "accelerator": "GPU",
  "colab": {
   "gpuType": "T4",
   "provenance": [],
   "toc_visible": true
  },
  "kernelspec": {
   "display_name": "torch",
   "language": "python",
   "name": "python3"
  },
  "language_info": {
   "codemirror_mode": {
    "name": "ipython",
    "version": 3
   },
   "file_extension": ".py",
   "mimetype": "text/x-python",
   "name": "python",
   "nbconvert_exporter": "python",
   "pygments_lexer": "ipython3",
   "version": "3.10.18"
  },
  "widgets": {
   "application/vnd.jupyter.widget-state+json": {
    "0281b12344d74ecfa74047f71f5e99a3": {
     "model_module": "@jupyter-widgets/base",
     "model_module_version": "1.2.0",
     "model_name": "LayoutModel",
     "state": {
      "_model_module": "@jupyter-widgets/base",
      "_model_module_version": "1.2.0",
      "_model_name": "LayoutModel",
      "_view_count": null,
      "_view_module": "@jupyter-widgets/base",
      "_view_module_version": "1.2.0",
      "_view_name": "LayoutView",
      "align_content": null,
      "align_items": null,
      "align_self": null,
      "border": null,
      "bottom": null,
      "display": null,
      "flex": null,
      "flex_flow": null,
      "grid_area": null,
      "grid_auto_columns": null,
      "grid_auto_flow": null,
      "grid_auto_rows": null,
      "grid_column": null,
      "grid_gap": null,
      "grid_row": null,
      "grid_template_areas": null,
      "grid_template_columns": null,
      "grid_template_rows": null,
      "height": null,
      "justify_content": null,
      "justify_items": null,
      "left": null,
      "margin": null,
      "max_height": null,
      "max_width": null,
      "min_height": null,
      "min_width": null,
      "object_fit": null,
      "object_position": null,
      "order": null,
      "overflow": null,
      "overflow_x": null,
      "overflow_y": null,
      "padding": null,
      "right": null,
      "top": null,
      "visibility": null,
      "width": null
     }
    },
    "09333682e44045589621b8458d27d5b1": {
     "model_module": "@jupyter-widgets/base",
     "model_module_version": "1.2.0",
     "model_name": "LayoutModel",
     "state": {
      "_model_module": "@jupyter-widgets/base",
      "_model_module_version": "1.2.0",
      "_model_name": "LayoutModel",
      "_view_count": null,
      "_view_module": "@jupyter-widgets/base",
      "_view_module_version": "1.2.0",
      "_view_name": "LayoutView",
      "align_content": null,
      "align_items": null,
      "align_self": null,
      "border": null,
      "bottom": null,
      "display": null,
      "flex": null,
      "flex_flow": null,
      "grid_area": null,
      "grid_auto_columns": null,
      "grid_auto_flow": null,
      "grid_auto_rows": null,
      "grid_column": null,
      "grid_gap": null,
      "grid_row": null,
      "grid_template_areas": null,
      "grid_template_columns": null,
      "grid_template_rows": null,
      "height": null,
      "justify_content": null,
      "justify_items": null,
      "left": null,
      "margin": null,
      "max_height": null,
      "max_width": null,
      "min_height": null,
      "min_width": null,
      "object_fit": null,
      "object_position": null,
      "order": null,
      "overflow": null,
      "overflow_x": null,
      "overflow_y": null,
      "padding": null,
      "right": null,
      "top": null,
      "visibility": null,
      "width": null
     }
    },
    "147c216163cf46b78314b881262680c5": {
     "model_module": "@jupyter-widgets/controls",
     "model_module_version": "1.5.0",
     "model_name": "DescriptionStyleModel",
     "state": {
      "_model_module": "@jupyter-widgets/controls",
      "_model_module_version": "1.5.0",
      "_model_name": "DescriptionStyleModel",
      "_view_count": null,
      "_view_module": "@jupyter-widgets/base",
      "_view_module_version": "1.2.0",
      "_view_name": "StyleView",
      "description_width": ""
     }
    },
    "19795ac17ccc494d986bb72583ff5a59": {
     "model_module": "@jupyter-widgets/base",
     "model_module_version": "1.2.0",
     "model_name": "LayoutModel",
     "state": {
      "_model_module": "@jupyter-widgets/base",
      "_model_module_version": "1.2.0",
      "_model_name": "LayoutModel",
      "_view_count": null,
      "_view_module": "@jupyter-widgets/base",
      "_view_module_version": "1.2.0",
      "_view_name": "LayoutView",
      "align_content": null,
      "align_items": null,
      "align_self": null,
      "border": null,
      "bottom": null,
      "display": null,
      "flex": null,
      "flex_flow": null,
      "grid_area": null,
      "grid_auto_columns": null,
      "grid_auto_flow": null,
      "grid_auto_rows": null,
      "grid_column": null,
      "grid_gap": null,
      "grid_row": null,
      "grid_template_areas": null,
      "grid_template_columns": null,
      "grid_template_rows": null,
      "height": null,
      "justify_content": null,
      "justify_items": null,
      "left": null,
      "margin": null,
      "max_height": null,
      "max_width": null,
      "min_height": null,
      "min_width": null,
      "object_fit": null,
      "object_position": null,
      "order": null,
      "overflow": null,
      "overflow_x": null,
      "overflow_y": null,
      "padding": null,
      "right": null,
      "top": null,
      "visibility": null,
      "width": null
     }
    },
    "1c33ceaf4d2745879bd8179c8110f363": {
     "model_module": "@jupyter-widgets/controls",
     "model_module_version": "1.5.0",
     "model_name": "DescriptionStyleModel",
     "state": {
      "_model_module": "@jupyter-widgets/controls",
      "_model_module_version": "1.5.0",
      "_model_name": "DescriptionStyleModel",
      "_view_count": null,
      "_view_module": "@jupyter-widgets/base",
      "_view_module_version": "1.2.0",
      "_view_name": "StyleView",
      "description_width": ""
     }
    },
    "201aacc55c8a4500a570bc5271cb214d": {
     "model_module": "@jupyter-widgets/controls",
     "model_module_version": "1.5.0",
     "model_name": "DescriptionStyleModel",
     "state": {
      "_model_module": "@jupyter-widgets/controls",
      "_model_module_version": "1.5.0",
      "_model_name": "DescriptionStyleModel",
      "_view_count": null,
      "_view_module": "@jupyter-widgets/base",
      "_view_module_version": "1.2.0",
      "_view_name": "StyleView",
      "description_width": ""
     }
    },
    "2527db25c3d54f8497259397ec296fd5": {
     "model_module": "@jupyter-widgets/base",
     "model_module_version": "1.2.0",
     "model_name": "LayoutModel",
     "state": {
      "_model_module": "@jupyter-widgets/base",
      "_model_module_version": "1.2.0",
      "_model_name": "LayoutModel",
      "_view_count": null,
      "_view_module": "@jupyter-widgets/base",
      "_view_module_version": "1.2.0",
      "_view_name": "LayoutView",
      "align_content": null,
      "align_items": null,
      "align_self": null,
      "border": null,
      "bottom": null,
      "display": null,
      "flex": null,
      "flex_flow": null,
      "grid_area": null,
      "grid_auto_columns": null,
      "grid_auto_flow": null,
      "grid_auto_rows": null,
      "grid_column": null,
      "grid_gap": null,
      "grid_row": null,
      "grid_template_areas": null,
      "grid_template_columns": null,
      "grid_template_rows": null,
      "height": null,
      "justify_content": null,
      "justify_items": null,
      "left": null,
      "margin": null,
      "max_height": null,
      "max_width": null,
      "min_height": null,
      "min_width": null,
      "object_fit": null,
      "object_position": null,
      "order": null,
      "overflow": null,
      "overflow_x": null,
      "overflow_y": null,
      "padding": null,
      "right": null,
      "top": null,
      "visibility": null,
      "width": null
     }
    },
    "2f79824026c24dc4a1285e8ecd4c8bff": {
     "model_module": "@jupyter-widgets/controls",
     "model_module_version": "1.5.0",
     "model_name": "HTMLModel",
     "state": {
      "_dom_classes": [],
      "_model_module": "@jupyter-widgets/controls",
      "_model_module_version": "1.5.0",
      "_model_name": "HTMLModel",
      "_view_count": null,
      "_view_module": "@jupyter-widgets/controls",
      "_view_module_version": "1.5.0",
      "_view_name": "HTMLView",
      "description": "",
      "description_tooltip": null,
      "layout": "IPY_MODEL_8efc778c31b949649373dcfe68cd6f21",
      "placeholder": "​",
      "style": "IPY_MODEL_147c216163cf46b78314b881262680c5",
      "value": "Map: 100%"
     }
    },
    "3604aae7b42f46558ce15ddaba92a61e": {
     "model_module": "@jupyter-widgets/controls",
     "model_module_version": "1.5.0",
     "model_name": "ProgressStyleModel",
     "state": {
      "_model_module": "@jupyter-widgets/controls",
      "_model_module_version": "1.5.0",
      "_model_name": "ProgressStyleModel",
      "_view_count": null,
      "_view_module": "@jupyter-widgets/base",
      "_view_module_version": "1.2.0",
      "_view_name": "StyleView",
      "bar_color": null,
      "description_width": ""
     }
    },
    "4aef9763a8fb41018037baf5949d53ef": {
     "model_module": "@jupyter-widgets/controls",
     "model_module_version": "1.5.0",
     "model_name": "HTMLModel",
     "state": {
      "_dom_classes": [],
      "_model_module": "@jupyter-widgets/controls",
      "_model_module_version": "1.5.0",
      "_model_name": "HTMLModel",
      "_view_count": null,
      "_view_module": "@jupyter-widgets/controls",
      "_view_module_version": "1.5.0",
      "_view_name": "HTMLView",
      "description": "",
      "description_tooltip": null,
      "layout": "IPY_MODEL_09333682e44045589621b8458d27d5b1",
      "placeholder": "​",
      "style": "IPY_MODEL_1c33ceaf4d2745879bd8179c8110f363",
      "value": " 4457/4457 [00:02&lt;00:00, 2065.64 examples/s]"
     }
    },
    "85dd3c0258b744379394cf061965082d": {
     "model_module": "@jupyter-widgets/controls",
     "model_module_version": "1.5.0",
     "model_name": "HTMLModel",
     "state": {
      "_dom_classes": [],
      "_model_module": "@jupyter-widgets/controls",
      "_model_module_version": "1.5.0",
      "_model_name": "HTMLModel",
      "_view_count": null,
      "_view_module": "@jupyter-widgets/controls",
      "_view_module_version": "1.5.0",
      "_view_name": "HTMLView",
      "description": "",
      "description_tooltip": null,
      "layout": "IPY_MODEL_87d01bf3227649e893cf3d20226278b4",
      "placeholder": "​",
      "style": "IPY_MODEL_201aacc55c8a4500a570bc5271cb214d",
      "value": "Map: 100%"
     }
    },
    "87d01bf3227649e893cf3d20226278b4": {
     "model_module": "@jupyter-widgets/base",
     "model_module_version": "1.2.0",
     "model_name": "LayoutModel",
     "state": {
      "_model_module": "@jupyter-widgets/base",
      "_model_module_version": "1.2.0",
      "_model_name": "LayoutModel",
      "_view_count": null,
      "_view_module": "@jupyter-widgets/base",
      "_view_module_version": "1.2.0",
      "_view_name": "LayoutView",
      "align_content": null,
      "align_items": null,
      "align_self": null,
      "border": null,
      "bottom": null,
      "display": null,
      "flex": null,
      "flex_flow": null,
      "grid_area": null,
      "grid_auto_columns": null,
      "grid_auto_flow": null,
      "grid_auto_rows": null,
      "grid_column": null,
      "grid_gap": null,
      "grid_row": null,
      "grid_template_areas": null,
      "grid_template_columns": null,
      "grid_template_rows": null,
      "height": null,
      "justify_content": null,
      "justify_items": null,
      "left": null,
      "margin": null,
      "max_height": null,
      "max_width": null,
      "min_height": null,
      "min_width": null,
      "object_fit": null,
      "object_position": null,
      "order": null,
      "overflow": null,
      "overflow_x": null,
      "overflow_y": null,
      "padding": null,
      "right": null,
      "top": null,
      "visibility": null,
      "width": null
     }
    },
    "8a972ed451f14f32a8703205f0d7d6b9": {
     "model_module": "@jupyter-widgets/controls",
     "model_module_version": "1.5.0",
     "model_name": "ProgressStyleModel",
     "state": {
      "_model_module": "@jupyter-widgets/controls",
      "_model_module_version": "1.5.0",
      "_model_name": "ProgressStyleModel",
      "_view_count": null,
      "_view_module": "@jupyter-widgets/base",
      "_view_module_version": "1.2.0",
      "_view_name": "StyleView",
      "bar_color": null,
      "description_width": ""
     }
    },
    "8d76e02c2bad42feb1e4305200ea34f9": {
     "model_module": "@jupyter-widgets/controls",
     "model_module_version": "1.5.0",
     "model_name": "FloatProgressModel",
     "state": {
      "_dom_classes": [],
      "_model_module": "@jupyter-widgets/controls",
      "_model_module_version": "1.5.0",
      "_model_name": "FloatProgressModel",
      "_view_count": null,
      "_view_module": "@jupyter-widgets/controls",
      "_view_module_version": "1.5.0",
      "_view_name": "ProgressView",
      "bar_style": "success",
      "description": "",
      "description_tooltip": null,
      "layout": "IPY_MODEL_19795ac17ccc494d986bb72583ff5a59",
      "max": 4457,
      "min": 0,
      "orientation": "horizontal",
      "style": "IPY_MODEL_3604aae7b42f46558ce15ddaba92a61e",
      "value": 4457
     }
    },
    "8efc778c31b949649373dcfe68cd6f21": {
     "model_module": "@jupyter-widgets/base",
     "model_module_version": "1.2.0",
     "model_name": "LayoutModel",
     "state": {
      "_model_module": "@jupyter-widgets/base",
      "_model_module_version": "1.2.0",
      "_model_name": "LayoutModel",
      "_view_count": null,
      "_view_module": "@jupyter-widgets/base",
      "_view_module_version": "1.2.0",
      "_view_name": "LayoutView",
      "align_content": null,
      "align_items": null,
      "align_self": null,
      "border": null,
      "bottom": null,
      "display": null,
      "flex": null,
      "flex_flow": null,
      "grid_area": null,
      "grid_auto_columns": null,
      "grid_auto_flow": null,
      "grid_auto_rows": null,
      "grid_column": null,
      "grid_gap": null,
      "grid_row": null,
      "grid_template_areas": null,
      "grid_template_columns": null,
      "grid_template_rows": null,
      "height": null,
      "justify_content": null,
      "justify_items": null,
      "left": null,
      "margin": null,
      "max_height": null,
      "max_width": null,
      "min_height": null,
      "min_width": null,
      "object_fit": null,
      "object_position": null,
      "order": null,
      "overflow": null,
      "overflow_x": null,
      "overflow_y": null,
      "padding": null,
      "right": null,
      "top": null,
      "visibility": null,
      "width": null
     }
    },
    "9949356880c447269ba0a3b106004fbe": {
     "model_module": "@jupyter-widgets/base",
     "model_module_version": "1.2.0",
     "model_name": "LayoutModel",
     "state": {
      "_model_module": "@jupyter-widgets/base",
      "_model_module_version": "1.2.0",
      "_model_name": "LayoutModel",
      "_view_count": null,
      "_view_module": "@jupyter-widgets/base",
      "_view_module_version": "1.2.0",
      "_view_name": "LayoutView",
      "align_content": null,
      "align_items": null,
      "align_self": null,
      "border": null,
      "bottom": null,
      "display": null,
      "flex": null,
      "flex_flow": null,
      "grid_area": null,
      "grid_auto_columns": null,
      "grid_auto_flow": null,
      "grid_auto_rows": null,
      "grid_column": null,
      "grid_gap": null,
      "grid_row": null,
      "grid_template_areas": null,
      "grid_template_columns": null,
      "grid_template_rows": null,
      "height": null,
      "justify_content": null,
      "justify_items": null,
      "left": null,
      "margin": null,
      "max_height": null,
      "max_width": null,
      "min_height": null,
      "min_width": null,
      "object_fit": null,
      "object_position": null,
      "order": null,
      "overflow": null,
      "overflow_x": null,
      "overflow_y": null,
      "padding": null,
      "right": null,
      "top": null,
      "visibility": null,
      "width": null
     }
    },
    "a050157de0794d00ac337fbf9193c6c7": {
     "model_module": "@jupyter-widgets/controls",
     "model_module_version": "1.5.0",
     "model_name": "HTMLModel",
     "state": {
      "_dom_classes": [],
      "_model_module": "@jupyter-widgets/controls",
      "_model_module_version": "1.5.0",
      "_model_name": "HTMLModel",
      "_view_count": null,
      "_view_module": "@jupyter-widgets/controls",
      "_view_module_version": "1.5.0",
      "_view_name": "HTMLView",
      "description": "",
      "description_tooltip": null,
      "layout": "IPY_MODEL_e29e3d95ed26424b86d2957bc01872d1",
      "placeholder": "​",
      "style": "IPY_MODEL_ec9eadd914f94c73b0cfd0ac468f1f94",
      "value": " 1115/1115 [00:00&lt;00:00, 1819.29 examples/s]"
     }
    },
    "a185493668514133990a30a51fd938bd": {
     "model_module": "@jupyter-widgets/controls",
     "model_module_version": "1.5.0",
     "model_name": "HBoxModel",
     "state": {
      "_dom_classes": [],
      "_model_module": "@jupyter-widgets/controls",
      "_model_module_version": "1.5.0",
      "_model_name": "HBoxModel",
      "_view_count": null,
      "_view_module": "@jupyter-widgets/controls",
      "_view_module_version": "1.5.0",
      "_view_name": "HBoxView",
      "box_style": "",
      "children": [
       "IPY_MODEL_85dd3c0258b744379394cf061965082d",
       "IPY_MODEL_f36bfd8abf754824950366bfbd1c257b",
       "IPY_MODEL_a050157de0794d00ac337fbf9193c6c7"
      ],
      "layout": "IPY_MODEL_2527db25c3d54f8497259397ec296fd5"
     }
    },
    "e29e3d95ed26424b86d2957bc01872d1": {
     "model_module": "@jupyter-widgets/base",
     "model_module_version": "1.2.0",
     "model_name": "LayoutModel",
     "state": {
      "_model_module": "@jupyter-widgets/base",
      "_model_module_version": "1.2.0",
      "_model_name": "LayoutModel",
      "_view_count": null,
      "_view_module": "@jupyter-widgets/base",
      "_view_module_version": "1.2.0",
      "_view_name": "LayoutView",
      "align_content": null,
      "align_items": null,
      "align_self": null,
      "border": null,
      "bottom": null,
      "display": null,
      "flex": null,
      "flex_flow": null,
      "grid_area": null,
      "grid_auto_columns": null,
      "grid_auto_flow": null,
      "grid_auto_rows": null,
      "grid_column": null,
      "grid_gap": null,
      "grid_row": null,
      "grid_template_areas": null,
      "grid_template_columns": null,
      "grid_template_rows": null,
      "height": null,
      "justify_content": null,
      "justify_items": null,
      "left": null,
      "margin": null,
      "max_height": null,
      "max_width": null,
      "min_height": null,
      "min_width": null,
      "object_fit": null,
      "object_position": null,
      "order": null,
      "overflow": null,
      "overflow_x": null,
      "overflow_y": null,
      "padding": null,
      "right": null,
      "top": null,
      "visibility": null,
      "width": null
     }
    },
    "eaed2412b21d49cca0a98e8e349e836c": {
     "model_module": "@jupyter-widgets/controls",
     "model_module_version": "1.5.0",
     "model_name": "HBoxModel",
     "state": {
      "_dom_classes": [],
      "_model_module": "@jupyter-widgets/controls",
      "_model_module_version": "1.5.0",
      "_model_name": "HBoxModel",
      "_view_count": null,
      "_view_module": "@jupyter-widgets/controls",
      "_view_module_version": "1.5.0",
      "_view_name": "HBoxView",
      "box_style": "",
      "children": [
       "IPY_MODEL_2f79824026c24dc4a1285e8ecd4c8bff",
       "IPY_MODEL_8d76e02c2bad42feb1e4305200ea34f9",
       "IPY_MODEL_4aef9763a8fb41018037baf5949d53ef"
      ],
      "layout": "IPY_MODEL_0281b12344d74ecfa74047f71f5e99a3"
     }
    },
    "ec9eadd914f94c73b0cfd0ac468f1f94": {
     "model_module": "@jupyter-widgets/controls",
     "model_module_version": "1.5.0",
     "model_name": "DescriptionStyleModel",
     "state": {
      "_model_module": "@jupyter-widgets/controls",
      "_model_module_version": "1.5.0",
      "_model_name": "DescriptionStyleModel",
      "_view_count": null,
      "_view_module": "@jupyter-widgets/base",
      "_view_module_version": "1.2.0",
      "_view_name": "StyleView",
      "description_width": ""
     }
    },
    "f36bfd8abf754824950366bfbd1c257b": {
     "model_module": "@jupyter-widgets/controls",
     "model_module_version": "1.5.0",
     "model_name": "FloatProgressModel",
     "state": {
      "_dom_classes": [],
      "_model_module": "@jupyter-widgets/controls",
      "_model_module_version": "1.5.0",
      "_model_name": "FloatProgressModel",
      "_view_count": null,
      "_view_module": "@jupyter-widgets/controls",
      "_view_module_version": "1.5.0",
      "_view_name": "ProgressView",
      "bar_style": "success",
      "description": "",
      "description_tooltip": null,
      "layout": "IPY_MODEL_9949356880c447269ba0a3b106004fbe",
      "max": 1115,
      "min": 0,
      "orientation": "horizontal",
      "style": "IPY_MODEL_8a972ed451f14f32a8703205f0d7d6b9",
      "value": 1115
     }
    }
   }
  }
 },
 "nbformat": 4,
 "nbformat_minor": 0
}
